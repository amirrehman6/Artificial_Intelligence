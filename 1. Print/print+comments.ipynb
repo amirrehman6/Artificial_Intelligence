{
 "cells": [
  {
   "cell_type": "markdown",
   "id": "91e09818",
   "metadata": {},
   "source": [
    "## Chapter 1\n",
    "\n",
    "#### print()"
   ]
  },
  {
   "cell_type": "code",
   "execution_count": 10,
   "id": "e3455ac9",
   "metadata": {},
   "outputs": [
    {
     "name": "stdout",
     "output_type": "stream",
     "text": [
      "Syed Amir Rehman\n"
     ]
    }
   ],
   "source": [
    "print(\"Syed Amir Rehman\") # keyword to display anything inside inverted double quotes"
   ]
  },
  {
   "cell_type": "code",
   "execution_count": 12,
   "id": "9ba646e1",
   "metadata": {},
   "outputs": [
    {
     "name": "stdout",
     "output_type": "stream",
     "text": [
      "Syed Amir Rehman\n"
     ]
    }
   ],
   "source": [
    "print('Syed Amir Rehman') # keyword to display anything inside inverted single quote"
   ]
  },
  {
   "cell_type": "code",
   "execution_count": 27,
   "id": "40bbd003",
   "metadata": {},
   "outputs": [
    {
     "name": "stdout",
     "output_type": "stream",
     "text": [
      "Name:= Syed Amir Rehman\tACA\n"
     ]
    }
   ],
   "source": [
    "print(\"Name:\",\"Syed Amir Rehman\", sep=\"= \", end=\"\\t\") # default Separator and print End are: sep=' ', end='\\n'\n",
    "print(\"ACA\")"
   ]
  },
  {
   "cell_type": "code",
   "execution_count": 16,
   "id": "c8c26b0c",
   "metadata": {},
   "outputs": [
    {
     "name": "stdout",
     "output_type": "stream",
     "text": [
      "Amir\n"
     ]
    }
   ],
   "source": [
    "# print can display information held in variable\n",
    "\n",
    "firstName = 'Amir'\n",
    "print(firstName)"
   ]
  },
  {
   "cell_type": "markdown",
   "id": "e54d2d1a",
   "metadata": {},
   "source": [
    "#### Multiline Comments"
   ]
  },
  {
   "cell_type": "code",
   "execution_count": 19,
   "id": "2de169aa",
   "metadata": {},
   "outputs": [
    {
     "name": "stdout",
     "output_type": "stream",
     "text": [
      "Amir\n"
     ]
    }
   ],
   "source": [
    "\"\"\"\n",
    "This is multi line comment.\n",
    "Yes it is.\n",
    "\"\"\"\n",
    "print(\"Amir\")"
   ]
  },
  {
   "cell_type": "code",
   "execution_count": 29,
   "id": "6de1acf3",
   "metadata": {},
   "outputs": [
    {
     "name": "stdout",
     "output_type": "stream",
     "text": [
      "Rehman\n"
     ]
    }
   ],
   "source": [
    "'''\n",
    "This is also multi line comment.\n",
    "Yes it is.\n",
    "'''\n",
    "print(\"Rehman\")"
   ]
  }
 ],
 "metadata": {
  "kernelspec": {
   "display_name": "Python 3 (ipykernel)",
   "language": "python",
   "name": "python3"
  },
  "language_info": {
   "codemirror_mode": {
    "name": "ipython",
    "version": 3
   },
   "file_extension": ".py",
   "mimetype": "text/x-python",
   "name": "python",
   "nbconvert_exporter": "python",
   "pygments_lexer": "ipython3",
   "version": "3.9.12"
  }
 },
 "nbformat": 4,
 "nbformat_minor": 5
}
