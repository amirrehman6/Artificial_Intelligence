{
 "cells": [
  {
   "cell_type": "markdown",
   "id": "bc62060b",
   "metadata": {},
   "source": [
    "# Function"
   ]
  },
  {
   "cell_type": "markdown",
   "id": "1b0e36a8",
   "metadata": {},
   "source": [
    "## Table of Contents"
   ]
  },
  {
   "cell_type": "markdown",
   "id": "dc75ff75",
   "metadata": {},
   "source": [
    "1. Definition\n",
    "2. Syntax\n",
    "3. Scope of Variables\n",
    "4. DocStrings\n",
    "5. Lambda function"
   ]
  },
  {
   "cell_type": "markdown",
   "id": "945c31b6",
   "metadata": {},
   "source": [
    "### 1. Definition"
   ]
  },
  {
   "cell_type": "markdown",
   "id": "97f8bb6c",
   "metadata": {},
   "source": [
    "1. FUNCTION is a bunch for code which is executed through single command\n",
    "2. Arguments -- i) default ii) call by position iii) call by name\n",
    "3. \n",
    "4. \n",
    "5. "
   ]
  },
  {
   "cell_type": "markdown",
   "id": "be853fae",
   "metadata": {},
   "source": [
    "### 2. Syntax"
   ]
  },
  {
   "cell_type": "code",
   "execution_count": 1,
   "id": "00f69ef3",
   "metadata": {},
   "outputs": [
    {
     "data": {
      "text/plain": [
       "785.7142857142857"
      ]
     },
     "execution_count": 1,
     "metadata": {},
     "output_type": "execute_result"
    }
   ],
   "source": [
    "# creating function\n",
    "\n",
    "def cylinder_volume(height,radius):\n",
    "    volume = (22 / 7) * (radius ** 2) * height\n",
    "    return volume\n",
    "\n",
    "# executing function\n",
    "cylinder_volume(10,5)"
   ]
  },
  {
   "cell_type": "markdown",
   "id": "8722b830",
   "metadata": {},
   "source": [
    "1. always start with keyword: def \n",
    "2. followed by function name\n",
    "3. followed by ():\n",
    "4. () contain arguments (optional)\n",
    "5. block of code\n",
    "6. end with return (optional)"
   ]
  },
  {
   "cell_type": "markdown",
   "id": "878563d8",
   "metadata": {},
   "source": [
    "### 3. Creating Function"
   ]
  },
  {
   "cell_type": "markdown",
   "id": "9646078a",
   "metadata": {},
   "source": [
    "1. Accessing value\n",
    "2. Adding value\n",
    "3. Deleting value\n",
    "4. Changing value "
   ]
  },
  {
   "cell_type": "markdown",
   "id": "0ad191c0",
   "metadata": {},
   "source": [
    "#### Accessing Values from Dictionary"
   ]
  },
  {
   "cell_type": "markdown",
   "id": "d3da5999",
   "metadata": {},
   "source": [
    "1. dictName[key]"
   ]
  },
  {
   "cell_type": "code",
   "execution_count": 2,
   "id": "f4385450",
   "metadata": {},
   "outputs": [],
   "source": [
    "emp_123 = {\n",
    "    'first_name': 'Amir',\n",
    "    'last_name': 'Rehman',\n",
    "    'designation':'Senior Manager',\n",
    "    'grade':'BS-19',\n",
    "    'qualification':'Chartered Accountant',\n",
    "    'Experience':'15 years'\n",
    "}"
   ]
  },
  {
   "cell_type": "code",
   "execution_count": 3,
   "id": "a4283c59",
   "metadata": {},
   "outputs": [
    {
     "name": "stdout",
     "output_type": "stream",
     "text": [
      "Amir\n"
     ]
    }
   ],
   "source": [
    "print(emp_123['first_name'])    # 1. dictName[key]"
   ]
  },
  {
   "cell_type": "markdown",
   "id": "c58bfcf2",
   "metadata": {},
   "source": [
    "#### Adding Elements to Dictionary"
   ]
  },
  {
   "cell_type": "markdown",
   "id": "944d56a5",
   "metadata": {},
   "source": [
    "1. dictName[key] = value"
   ]
  },
  {
   "cell_type": "code",
   "execution_count": 26,
   "id": "5e1489ee",
   "metadata": {},
   "outputs": [],
   "source": [
    "emp_234 = {}                         # empty dictionary"
   ]
  },
  {
   "cell_type": "code",
   "execution_count": 27,
   "id": "6f75c1ce",
   "metadata": {},
   "outputs": [
    {
     "data": {
      "text/plain": [
       "{'first_name': 'Bilal'}"
      ]
     },
     "execution_count": 27,
     "metadata": {},
     "output_type": "execute_result"
    }
   ],
   "source": [
    "emp_234['first_name'] = 'Bilal'      # 1. dictName[key] = value\n",
    "emp_234"
   ]
  },
  {
   "cell_type": "markdown",
   "id": "7b3dc0cd",
   "metadata": {},
   "source": [
    "#### Deleting Elements from Dictionary"
   ]
  },
  {
   "cell_type": "markdown",
   "id": "4d714bb3",
   "metadata": {},
   "source": [
    "1. del dictName[key]"
   ]
  },
  {
   "cell_type": "code",
   "execution_count": 28,
   "id": "dabeddcd",
   "metadata": {},
   "outputs": [
    {
     "data": {
      "text/plain": [
       "{'first_name': 'Bilal'}"
      ]
     },
     "execution_count": 28,
     "metadata": {},
     "output_type": "execute_result"
    }
   ],
   "source": [
    "emp_234"
   ]
  },
  {
   "cell_type": "code",
   "execution_count": 29,
   "id": "1e529a50",
   "metadata": {},
   "outputs": [
    {
     "data": {
      "text/plain": [
       "{}"
      ]
     },
     "execution_count": 29,
     "metadata": {},
     "output_type": "execute_result"
    }
   ],
   "source": [
    "del emp_234['first_name']\n",
    "emp_234"
   ]
  },
  {
   "cell_type": "markdown",
   "id": "59ba6996",
   "metadata": {},
   "source": [
    "#### Changing Value in Dictionary"
   ]
  },
  {
   "cell_type": "markdown",
   "id": "29ac9190",
   "metadata": {},
   "source": [
    "1. dictName[key] = 'new value'"
   ]
  },
  {
   "cell_type": "code",
   "execution_count": 6,
   "id": "e80739bd",
   "metadata": {},
   "outputs": [
    {
     "data": {
      "text/plain": [
       "{'first_name': 'Amir',\n",
       " 'last_name': 'Rehman',\n",
       " 'designation': 'Senior Manager Accounts',\n",
       " 'grade': 'BS-19',\n",
       " 'qualification': 'Chartered Accountant',\n",
       " 'Experience': '15 years'}"
      ]
     },
     "execution_count": 6,
     "metadata": {},
     "output_type": "execute_result"
    }
   ],
   "source": [
    "emp_123['designation'] = 'Senior Manager Accounts'  # 1. dictName[key] = 'new value'\n",
    "emp_123"
   ]
  },
  {
   "cell_type": "markdown",
   "id": "b20decd9",
   "metadata": {},
   "source": [
    "### 4. Dictionary Methods"
   ]
  },
  {
   "cell_type": "markdown",
   "id": "2e777766",
   "metadata": {},
   "source": [
    "1. ADDING ELEMENTS\n",
    "    1. update()\n",
    "    2. setdefault()\n",
    "2. REMOVING ELEMENTS\n",
    "    1. pop()\n",
    "    2. popitem()\n",
    "    3. clear()\n",
    "    4. del            # this is a keyword\n",
    "3. OBTAINING ELEMENTS\n",
    "    1. values()\n",
    "    2. keys()\n",
    "    3. items()\n",
    "    4. get()\n",
    "4. OTHERS\n",
    "    1. copy()         # deep copy\n",
    "    2. fromkeys()"
   ]
  },
  {
   "cell_type": "markdown",
   "id": "176abf8f",
   "metadata": {},
   "source": [
    "#### Adding Elements"
   ]
  },
  {
   "cell_type": "code",
   "execution_count": 37,
   "id": "b396abb0",
   "metadata": {},
   "outputs": [
    {
     "name": "stdout",
     "output_type": "stream",
     "text": [
      "{'a': 'b', 'x': 'y'}\n",
      "{'a': 'b', 'x': 'y', 'i': 'j'}\n"
     ]
    }
   ],
   "source": [
    "# update()\n",
    "\n",
    "############################################\n",
    "# add key:value pair to dictionary\n",
    "# syntax\n",
    "#       dictName.update({key:value})\n",
    "############################################\n",
    "\n",
    "\n",
    "x = {\n",
    "    'a':'b',\n",
    "    'x':'y'\n",
    "}\n",
    "print(x)\n",
    "\n",
    "x.update({'i':'j'})\n",
    "print(x)"
   ]
  },
  {
   "cell_type": "code",
   "execution_count": 38,
   "id": "42ea2c41",
   "metadata": {},
   "outputs": [
    {
     "name": "stdout",
     "output_type": "stream",
     "text": [
      "{'a': 'b', 'x': 'y'}\n",
      "b\n",
      "b\n",
      "{'a': 'b', 'x': 'y', 'i': 'j'}\n"
     ]
    }
   ],
   "source": [
    "# setdefault()\n",
    "\n",
    "############################################\n",
    "# access / add key (with value) to the dictionary \n",
    "# syntax\n",
    "#       dictName.setdefault(key:value) ----> value is optional\n",
    "############################################\n",
    "\n",
    "\n",
    "x = {\n",
    "    'a':'b',\n",
    "    'x':'y'\n",
    "}\n",
    "print(x)\n",
    "\n",
    "j = x.setdefault('a')              # 1. will access value of the passed key if found\n",
    "print(j)\n",
    "\n",
    "j = x.setdefault('a','c')          # 2. will NOT update value if key is found in dictionary\n",
    "print(j)\n",
    "\n",
    "x.setdefault('i','j')              # 3. will add key:value pair if key is not found (value can be assigned to variable)\n",
    "print(x)\n"
   ]
  },
  {
   "cell_type": "markdown",
   "id": "40b52d50",
   "metadata": {},
   "source": [
    "#### Removing Elements"
   ]
  },
  {
   "cell_type": "code",
   "execution_count": 39,
   "id": "8ac280ab",
   "metadata": {},
   "outputs": [
    {
     "name": "stdout",
     "output_type": "stream",
     "text": [
      "{'a': 'b', 'x': 'y'}\n",
      "{'x': 'y'}\n",
      "{}\n"
     ]
    }
   ],
   "source": [
    "# pop()\n",
    "\n",
    "############################################\n",
    "# delete the value of key passed to it\n",
    "# syntax\n",
    "#       dict.pop(key)\n",
    "############################################\n",
    "\n",
    "\n",
    "x = {\n",
    "    'a':'b',\n",
    "    'x':'y'\n",
    "}\n",
    "print(x)\n",
    "x.pop('a')\n",
    "print(x)\n",
    "x.popitem()\n",
    "print(x)"
   ]
  },
  {
   "cell_type": "code",
   "execution_count": 74,
   "id": "42a2014c",
   "metadata": {},
   "outputs": [
    {
     "name": "stdout",
     "output_type": "stream",
     "text": [
      "{'a': 'b', 'x': 'y'}\n",
      "{'x': 'y'}\n",
      "{}\n"
     ]
    }
   ],
   "source": [
    "# popitem()\n",
    "\n",
    "############################################\n",
    "# delete last key:value pair\n",
    "# syntax\n",
    "#       dict.popitem()\n",
    "############################################\n",
    "\n",
    "\n",
    "x = {\n",
    "    'a':'b',\n",
    "    'x':'y'\n",
    "}\n",
    "print(x)\n",
    "x.pop('a')\n",
    "print(x)\n",
    "x.popitem()\n",
    "print(x)"
   ]
  },
  {
   "cell_type": "code",
   "execution_count": 41,
   "id": "7a57a95d",
   "metadata": {},
   "outputs": [
    {
     "name": "stdout",
     "output_type": "stream",
     "text": [
      "{'a': 'b', 'x': 'y'}\n",
      "{}\n"
     ]
    }
   ],
   "source": [
    "# clear()\n",
    "\n",
    "############################################\n",
    "# delete all data (dict become empty)\n",
    "# syntax\n",
    "#       dict.clear()\n",
    "############################################\n",
    "\n",
    "\n",
    "x = {\n",
    "    'a':'b',\n",
    "    'x':'y'\n",
    "}\n",
    "print(x)\n",
    "x.clear()\n",
    "print(x)"
   ]
  },
  {
   "cell_type": "code",
   "execution_count": 42,
   "id": "8019c063",
   "metadata": {},
   "outputs": [
    {
     "name": "stdout",
     "output_type": "stream",
     "text": [
      "{'a': 'b', 'x': 'y'}\n",
      "{'x': 'y'}\n"
     ]
    }
   ],
   "source": [
    "# del    -----> this is a keyword\n",
    "\n",
    "############################################\n",
    "# delete the dict completely (or specific value as per key)\n",
    "# syntax\n",
    "#       del dictName\n",
    "############################################\n",
    "\n",
    "\n",
    "x = {\n",
    "    'a':'b',\n",
    "    'x':'y'\n",
    "}\n",
    "print(x)\n",
    "\n",
    "del x['a']     # delete value as the key\n",
    "print(x)\n",
    "\n",
    "del x\n",
    "# print(x)     # will return ' NameError: x is not defined'"
   ]
  },
  {
   "cell_type": "markdown",
   "id": "8f8c7cef",
   "metadata": {},
   "source": [
    "#### Obtaining Elements"
   ]
  },
  {
   "cell_type": "code",
   "execution_count": 43,
   "id": "dae52fbe",
   "metadata": {},
   "outputs": [
    {
     "name": "stdout",
     "output_type": "stream",
     "text": [
      "honda\n",
      "city\n",
      "2004\n",
      "1300cc\n"
     ]
    }
   ],
   "source": [
    "# values()\n",
    "\n",
    "################################\n",
    "# gets values from dictionary\n",
    "# syntax\n",
    "#       dictName.values()\n",
    "################################\n",
    "\n",
    "car = {\n",
    "    'make':'honda',\n",
    "    'model':'city',\n",
    "    'year':'2004',\n",
    "    'engineCC':'1300cc'\n",
    "}\n",
    "\n",
    "for values in car.values():          # 1. Printing Values only\n",
    "    print(values)"
   ]
  },
  {
   "cell_type": "code",
   "execution_count": 44,
   "id": "294264ae",
   "metadata": {},
   "outputs": [
    {
     "name": "stdout",
     "output_type": "stream",
     "text": [
      "make\n",
      "model\n",
      "year\n",
      "engineCC\n"
     ]
    }
   ],
   "source": [
    "# keys()\n",
    "\n",
    "################################\n",
    "# gets keys from dictionary\n",
    "# syntax\n",
    "#       dictName.keys()\n",
    "################################\n",
    "\n",
    "\n",
    "for keys in car.keys():              # 2. Printing Keys only\n",
    "    print(keys)"
   ]
  },
  {
   "cell_type": "code",
   "execution_count": 45,
   "id": "852ffb7a",
   "metadata": {},
   "outputs": [
    {
     "name": "stdout",
     "output_type": "stream",
     "text": [
      "make ---> honda\n",
      "model ---> city\n",
      "year ---> 2004\n",
      "engineCC ---> 1300cc\n"
     ]
    }
   ],
   "source": [
    "# items()\n",
    "\n",
    "############################################\n",
    "# gets both keys and values from dictionary\n",
    "# syntax\n",
    "#       dictName.values()\n",
    "############################################\n",
    "\n",
    "\n",
    "\n",
    "for keys, values in car.items():     # 3. Printing Both Keys & Values\n",
    "    print(keys, values, sep=\" ---> \")"
   ]
  },
  {
   "cell_type": "code",
   "execution_count": 46,
   "id": "d15ff1f1",
   "metadata": {},
   "outputs": [
    {
     "name": "stdout",
     "output_type": "stream",
     "text": [
      "honda\n",
      "None\n"
     ]
    }
   ],
   "source": [
    "# get()\n",
    "\n",
    "############################################\n",
    "# gets data about key passed to it. (also prevents error in case key is not present)\n",
    "# syntax\n",
    "#       dictName.get(key)\n",
    "############################################\n",
    "\n",
    "print(car.get('make'))\n",
    "print(car.get('hp'))            # no error if key is not present"
   ]
  },
  {
   "cell_type": "markdown",
   "id": "ab37c1d4",
   "metadata": {},
   "source": [
    "#### Other Methods"
   ]
  },
  {
   "cell_type": "code",
   "execution_count": 47,
   "id": "864e0dac",
   "metadata": {},
   "outputs": [
    {
     "data": {
      "text/plain": [
       "{'make': 'honda', 'model': 'city', 'year': '2004', 'engineCC': '1300cc'}"
      ]
     },
     "execution_count": 47,
     "metadata": {},
     "output_type": "execute_result"
    }
   ],
   "source": [
    "# copy()\n",
    "\n",
    "############################################\n",
    "# creates the exact copy of dictionary (not ref to original list)    -----> also know as deep copy\n",
    "# syntax\n",
    "#       newDictName = dictName.copy()\n",
    "############################################\n",
    "\n",
    "newcar = car.copy()\n",
    "newcar"
   ]
  },
  {
   "cell_type": "code",
   "execution_count": 49,
   "id": "e081e695",
   "metadata": {},
   "outputs": [
    {
     "name": "stdout",
     "output_type": "stream",
     "text": [
      "{'school': None, 'course': None, 'batch': None}\n",
      "{'school': 'default value', 'course': 'default value', 'batch': 'default value'}\n"
     ]
    }
   ],
   "source": [
    "# fromkeys()\n",
    "\n",
    "############################################\n",
    "# use to create dictionary with keys passed to it\n",
    "# syntax\n",
    "#       dict.fromkeys(ListName)\n",
    "############################################\n",
    "\n",
    "keys = ['school','course','batch']\n",
    "\n",
    "dictionary1 = dict.fromkeys(keys)\n",
    "dictionary2 = dict.fromkeys(keys,'default value')\n",
    "print(dictionary1)\n",
    "print(dictionary2)"
   ]
  },
  {
   "cell_type": "markdown",
   "id": "493b8624",
   "metadata": {},
   "source": [
    "### 5. Tools"
   ]
  },
  {
   "cell_type": "markdown",
   "id": "75084b43",
   "metadata": {},
   "source": [
    "#### 1. 'Leap Year' Function\n",
    "\n",
    "In the Gregorian calendar, three conditions are used to identify leap years:\n",
    "\n",
    "The year can be evenly divided by 4, is a leap year, unless:\n",
    "The year can be evenly divided by 100, it is NOT a leap year, unless:\n",
    "The year is also evenly divisible by 400. Then it is a leap year.\n",
    "This means that in the Gregorian calendar, the years 2000 and 2400 are leap years, while 1800, 1900, 2100, 2200, 2300 and 2500 are NOT leap years. "
   ]
  },
  {
   "cell_type": "code",
   "execution_count": 7,
   "id": "a4d8f0d0",
   "metadata": {},
   "outputs": [
    {
     "name": "stdout",
     "output_type": "stream",
     "text": [
      "2024\n",
      "True\n"
     ]
    }
   ],
   "source": [
    "def is_leap(year):\n",
    "    leap = False\n",
    "    \n",
    "    if 1900 <= year <= 10**5:\n",
    "        if year % 4 == 0:\n",
    "            if year % 100 != 0 or year % 400 == 0: \n",
    "                leap = True\n",
    "    return leap\n",
    "\n",
    "year = int(input())\n",
    "print(is_leap(year))"
   ]
  },
  {
   "cell_type": "code",
   "execution_count": null,
   "id": "610c08c5",
   "metadata": {},
   "outputs": [],
   "source": []
  }
 ],
 "metadata": {
  "kernelspec": {
   "display_name": "Python 3 (ipykernel)",
   "language": "python",
   "name": "python3"
  },
  "language_info": {
   "codemirror_mode": {
    "name": "ipython",
    "version": 3
   },
   "file_extension": ".py",
   "mimetype": "text/x-python",
   "name": "python",
   "nbconvert_exporter": "python",
   "pygments_lexer": "ipython3",
   "version": "3.9.12"
  }
 },
 "nbformat": 4,
 "nbformat_minor": 5
}
