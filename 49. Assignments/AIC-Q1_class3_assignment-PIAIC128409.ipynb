{
 "cells": [
  {
   "cell_type": "markdown",
   "metadata": {},
   "source": [
    "## Operations\n",
    "\n",
    "### oprand\n",
    "    * oprand are the values on which operation is performed\n",
    "\n",
    "### operator    \n",
    "    * operator is the type of operation that is performed on operand. These are:\n",
    "      +     --> add\n",
    "      -     --> subtract\n",
    "      *     --> multiply\n",
    "      /     --> divide\n",
    "      %     --> modulus (reminder)\n",
    "      **    --> power\n",
    "      //    --> floor division"
   ]
  },
  {
   "cell_type": "code",
   "execution_count": 26,
   "metadata": {},
   "outputs": [
    {
     "name": "stdout",
     "output_type": "stream",
     "text": [
      "10\n"
     ]
    }
   ],
   "source": [
    "print(4 + 6)"
   ]
  },
  {
   "cell_type": "code",
   "execution_count": 27,
   "metadata": {},
   "outputs": [
    {
     "name": "stdout",
     "output_type": "stream",
     "text": [
      "-2\n"
     ]
    }
   ],
   "source": [
    "print( 2 - 4 )"
   ]
  },
  {
   "cell_type": "code",
   "execution_count": 28,
   "metadata": {},
   "outputs": [
    {
     "name": "stdout",
     "output_type": "stream",
     "text": [
      "20\n"
     ]
    }
   ],
   "source": [
    "print( 4 * 5)"
   ]
  },
  {
   "cell_type": "code",
   "execution_count": 29,
   "metadata": {},
   "outputs": [
    {
     "name": "stdout",
     "output_type": "stream",
     "text": [
      "17.857142857142858\n"
     ]
    }
   ],
   "source": [
    "print(125/7) # float"
   ]
  },
  {
   "cell_type": "code",
   "execution_count": 30,
   "metadata": {},
   "outputs": [
    {
     "name": "stdout",
     "output_type": "stream",
     "text": [
      "27\n"
     ]
    }
   ],
   "source": [
    "print(3**3) #power"
   ]
  },
  {
   "cell_type": "code",
   "execution_count": 31,
   "metadata": {},
   "outputs": [
    {
     "name": "stdout",
     "output_type": "stream",
     "text": [
      "1\n"
     ]
    }
   ],
   "source": [
    "print(3//2) # floor division"
   ]
  },
  {
   "cell_type": "code",
   "execution_count": 32,
   "metadata": {},
   "outputs": [
    {
     "name": "stdout",
     "output_type": "stream",
     "text": [
      "0\n"
     ]
    }
   ],
   "source": [
    "print(1//3)"
   ]
  },
  {
   "cell_type": "code",
   "execution_count": 33,
   "metadata": {},
   "outputs": [
    {
     "name": "stdout",
     "output_type": "stream",
     "text": [
      "1\n"
     ]
    }
   ],
   "source": [
    "print(19 % 3) # modulus"
   ]
  },
  {
   "cell_type": "markdown",
   "metadata": {},
   "source": [
    "### = equal operator \n",
    "\n",
    "equal operator assigns value to the variable (placeholder)\n",
    "\n",
    "syntax:\n",
    "\n",
    "``` variableName = value ```\n",
    "\n",
    "* value can be of any data type"
   ]
  },
  {
   "cell_type": "code",
   "execution_count": 15,
   "metadata": {},
   "outputs": [
    {
     "name": "stdout",
     "output_type": "stream",
     "text": [
      "Amir Rehman\n",
      "PIAIC\n",
      "Online-37\n",
      "Every Sunday\n",
      "9 am to 12 pm\n"
     ]
    }
   ],
   "source": [
    "school = \"PIAIC\"\n",
    "batch = \"Online-37\"\n",
    "day = \"Every Sunday\"\n",
    "timing = \"9 am to 12 pm\"\n",
    "name = \"Amir Rehman\"\n",
    "\n",
    "print(name)\n",
    "print(school)\n",
    "print(batch)\n",
    "print(day)\n",
    "print(timing)"
   ]
  },
  {
   "cell_type": "code",
   "execution_count": 16,
   "metadata": {},
   "outputs": [
    {
     "name": "stdout",
     "output_type": "stream",
     "text": [
      "1697732250864\n",
      "1697761228784\n",
      "1697732251568\n",
      "1697761301104\n"
     ]
    }
   ],
   "source": [
    "print(id(school))\n",
    "print(id(batch))\n",
    "print(id(day))\n",
    "print(id(timing))"
   ]
  },
  {
   "cell_type": "code",
   "execution_count": 18,
   "metadata": {},
   "outputs": [
    {
     "name": "stdout",
     "output_type": "stream",
     "text": [
      "Amir Rehman\n"
     ]
    }
   ],
   "source": [
    "name = \"Amir Rehman\"\n",
    "print(name)"
   ]
  },
  {
   "cell_type": "markdown",
   "metadata": {},
   "source": [
    "## Few pre-defined functions\n",
    "\n",
    "    * print()  --> display the result in parentheses\n",
    "    * type()   --> determine data type of variable\n",
    "    * id()     --> determine memory address of variable\n",
    "    * len()    --> determine character length of variable"
   ]
  },
  {
   "cell_type": "code",
   "execution_count": 19,
   "metadata": {},
   "outputs": [
    {
     "name": "stdout",
     "output_type": "stream",
     "text": [
      "<class 'str'>\n",
      "1697761304240\n",
      "11\n"
     ]
    }
   ],
   "source": [
    "name = \"Amir Rehman\"\n",
    "print(type(name)) # data type \n",
    "print(id(name)) # memory address\n",
    "print(len(name)) # length (count number of character)\n"
   ]
  },
  {
   "cell_type": "code",
   "execution_count": 20,
   "metadata": {},
   "outputs": [
    {
     "name": "stdout",
     "output_type": "stream",
     "text": [
      "1697761303344\n",
      "1697761302640\n"
     ]
    }
   ],
   "source": [
    "myName = \"Amir Rehman\"\n",
    "teacher_name = \"Muhammad Qasim\"\n",
    "\n",
    "print(id(myName))\n",
    "print(id(teacher_name))"
   ]
  },
  {
   "cell_type": "code",
   "execution_count": 25,
   "metadata": {},
   "outputs": [
    {
     "name": "stdout",
     "output_type": "stream",
     "text": [
      "1697732532592\n",
      "1697732532592\n"
     ]
    }
   ],
   "source": [
    "a = \"Amir\"\n",
    "b = \"Amir\"\n",
    "\n",
    "print(id(a))\n",
    "print(id(b))"
   ]
  },
  {
   "cell_type": "code",
   "execution_count": 22,
   "metadata": {},
   "outputs": [
    {
     "name": "stdout",
     "output_type": "stream",
     "text": [
      "<class 'int'>\n",
      "1697645947792\n",
      "<class 'float'>\n",
      "1697732261328\n"
     ]
    }
   ],
   "source": [
    "age = 20\n",
    "pi = 3.14\n",
    "print(type(age))\n",
    "print(id(age))\n",
    "\n",
    "print(type(pi))\n",
    "print(id(pi))"
   ]
  },
  {
   "cell_type": "code",
   "execution_count": null,
   "metadata": {},
   "outputs": [],
   "source": []
  }
 ],
 "metadata": {
  "kernelspec": {
   "display_name": "Python 3 (ipykernel)",
   "language": "python",
   "name": "python3"
  },
  "language_info": {
   "codemirror_mode": {
    "name": "ipython",
    "version": 3
   },
   "file_extension": ".py",
   "mimetype": "text/x-python",
   "name": "python",
   "nbconvert_exporter": "python",
   "pygments_lexer": "ipython3",
   "version": "3.9.12"
  }
 },
 "nbformat": 4,
 "nbformat_minor": 4
}
