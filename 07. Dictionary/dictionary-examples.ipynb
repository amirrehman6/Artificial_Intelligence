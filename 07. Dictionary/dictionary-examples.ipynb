{
 "cells": [
  {
   "cell_type": "markdown",
   "id": "c8330594",
   "metadata": {},
   "source": [
    "# Dictionary - Examples & Tools"
   ]
  },
  {
   "cell_type": "markdown",
   "id": "5e56edbe",
   "metadata": {},
   "source": [
    "### Examples"
   ]
  },
  {
   "cell_type": "markdown",
   "id": "eb3d417a",
   "metadata": {},
   "source": [
    "#### 1. Creating List of Dictionaries"
   ]
  },
  {
   "cell_type": "code",
   "execution_count": 4,
   "id": "3825822f",
   "metadata": {},
   "outputs": [],
   "source": [
    "customers = []\n",
    "keys = ['customerID','First Name','Last Name','Address','Education']"
   ]
  },
  {
   "cell_type": "code",
   "execution_count": 6,
   "id": "6ef16a72",
   "metadata": {},
   "outputs": [
    {
     "name": "stdout",
     "output_type": "stream",
     "text": [
      "first name:bilal\n",
      "last name:hamid\n",
      "address:islamabad\n",
      "education:acma\n",
      "[{'customerID': 0, 'First Name': 'amir', 'Last Name': 'rehman', 'Address': 'islamabad', 'Education': 'aca'}, {'customerID': 1, 'First Name': 'bilal', 'Last Name': 'hamid', 'Address': 'islamabad', 'Education': 'acma'}]\n"
     ]
    }
   ],
   "source": [
    "fname = input('first name: ')\n",
    "lname = input('last name: ')\n",
    "address = input('address: ')\n",
    "education = input('education: ')\n",
    "\n",
    "customerID = len(customers)\n",
    "values = [customerID,fname,lname,address,education]      # create list of values (same size as list of keys)\n",
    "\n",
    "record = dict(zip(keys,values))             # create a dictionary based on lists of keys and values\n",
    "customers.append(record)                    # add dictionary to the list at the last\n",
    "\n",
    "print(customers)"
   ]
  },
  {
   "cell_type": "markdown",
   "id": "63a27348",
   "metadata": {},
   "source": [
    "#### 2. Creating Dictionary of Dictionaries"
   ]
  },
  {
   "cell_type": "code",
   "execution_count": 14,
   "id": "1f7e7545",
   "metadata": {},
   "outputs": [],
   "source": [
    "customers = {}\n",
    "keys = ['First Name','Last Name','Address','Education']"
   ]
  },
  {
   "cell_type": "code",
   "execution_count": 17,
   "id": "0d96be54",
   "metadata": {},
   "outputs": [
    {
     "name": "stdout",
     "output_type": "stream",
     "text": [
      "first name:bilal\n",
      "last name:hamid\n",
      "address:rwp\n",
      "education:acma\n"
     ]
    },
    {
     "data": {
      "text/plain": [
       "{'CustomerID-0': {'First Name': 'amir',\n",
       "  'Last Name': 'rehman',\n",
       "  'Address': 'islamabad',\n",
       "  'Education': 'aca'},\n",
       " 'CustomerID-1': {'First Name': 'bilal',\n",
       "  'Last Name': 'hamid',\n",
       "  'Address': 'rwp',\n",
       "  'Education': 'acma'}}"
      ]
     },
     "execution_count": 17,
     "metadata": {},
     "output_type": "execute_result"
    }
   ],
   "source": [
    "fname = input('first name:')\n",
    "lname = input('last name:')\n",
    "address = input('address:')\n",
    "education = input('education:')\n",
    "\n",
    "customerID = 'CustomerID-' + str(len(customers))\n",
    "values = [fname,lname,address,education]      # create list of values (same size as list of keys)\n",
    "\n",
    "record = dict(zip(keys,values))             # create a dictionary based on lists of keys and values\n",
    "customers[customerID] = record              # add dictionary to the dictionary\n",
    "\n",
    "customers"
   ]
  },
  {
   "cell_type": "code",
   "execution_count": 19,
   "id": "2f2d22d2",
   "metadata": {},
   "outputs": [
    {
     "data": {
      "text/plain": [
       "'acma'"
      ]
     },
     "execution_count": 19,
     "metadata": {},
     "output_type": "execute_result"
    }
   ],
   "source": [
    "customers['CustomerID-1']['Education']"
   ]
  },
  {
   "cell_type": "markdown",
   "id": "0f1cb210",
   "metadata": {},
   "source": [
    "### Tools"
   ]
  },
  {
   "cell_type": "markdown",
   "id": "a881968d",
   "metadata": {},
   "source": [
    "#### 1. Create dictionary from two lists"
   ]
  },
  {
   "cell_type": "code",
   "execution_count": 20,
   "id": "d6a1a38b",
   "metadata": {},
   "outputs": [
    {
     "data": {
      "text/plain": [
       "{1: 'x', 2: 'y', 3: 'z'}"
      ]
     },
     "execution_count": 20,
     "metadata": {},
     "output_type": "execute_result"
    }
   ],
   "source": [
    "keys = [1, 2, 3]               # list 1\n",
    "values = ['x', 'y', 'z']       # list 2\n",
    "\n",
    "dict1 = dict(zip(keys, values))          # Option 1: using zip() function\n",
    "dict1"
   ]
  },
  {
   "cell_type": "code",
   "execution_count": 22,
   "id": "b37657ff",
   "metadata": {},
   "outputs": [
    {
     "data": {
      "text/plain": [
       "{1: 'x', 2: 'y', 3: 'z'}"
      ]
     },
     "execution_count": 22,
     "metadata": {},
     "output_type": "execute_result"
    }
   ],
   "source": [
    "keys = [1, 2, 3]               # list 1\n",
    "values = ['x', 'y', 'z']       # list 2\n",
    "\n",
    "dict1 = {}                               # Option 2: using for loop + update() function\n",
    "for x in range(len(keys)):\n",
    "    dict1.update({keys[x]:values[x]})\n",
    "dict1"
   ]
  },
  {
   "cell_type": "markdown",
   "id": "ab99d580",
   "metadata": {},
   "source": [
    "#### 2. Merge two dictionaries"
   ]
  },
  {
   "cell_type": "code",
   "execution_count": 24,
   "id": "b3642e30",
   "metadata": {},
   "outputs": [
    {
     "data": {
      "text/plain": [
       "{1: 'a', 2: 'b', 3: 'c', 7: 'x', 8: 'y', 9: 'z'}"
      ]
     },
     "execution_count": 24,
     "metadata": {},
     "output_type": "execute_result"
    }
   ],
   "source": [
    "dict1 = {1: 'a', 2: 'b', 3: 'c'}\n",
    "dict2 = {7: 'x', 8: 'y', 9: 'z'}\n",
    "\n",
    "dict3 = {**dict1, **dict2}              # option 1: ** shortest technique\n",
    "dict3"
   ]
  },
  {
   "cell_type": "code",
   "execution_count": 28,
   "id": "988108a6",
   "metadata": {},
   "outputs": [
    {
     "data": {
      "text/plain": [
       "{1: 'a', 2: 'b', 3: 'c', 7: 'x', 8: 'y', 9: 'z'}"
      ]
     },
     "execution_count": 28,
     "metadata": {},
     "output_type": "execute_result"
    }
   ],
   "source": [
    "dict1 = {1: 'a', 2: 'b', 3: 'c'}\n",
    "dict2 = {7: 'x', 8: 'y', 9: 'z'}\n",
    "\n",
    "dict3 = {}                              # option 2: empty dict + update() function\n",
    "dict3.update(dict1)\n",
    "dict3.update(dict2)\n",
    "dict3"
   ]
  },
  {
   "cell_type": "code",
   "execution_count": 29,
   "id": "fb1e1113",
   "metadata": {},
   "outputs": [
    {
     "data": {
      "text/plain": [
       "{1: 'a', 2: 'b', 3: 'c', 7: 'x', 8: 'y', 9: 'z'}"
      ]
     },
     "execution_count": 29,
     "metadata": {},
     "output_type": "execute_result"
    }
   ],
   "source": [
    "dict1 = {1: 'a', 2: 'b', 3: 'c'}\n",
    "dict2 = {7: 'x', 8: 'y', 9: 'z'}\n",
    "\n",
    "dict3 = dict1.copy()                    # option 3: copy() + update() function\n",
    "dict3.update(dict2)\n",
    "dict3"
   ]
  },
  {
   "cell_type": "markdown",
   "id": "138e239a",
   "metadata": {},
   "source": [
    "#### 3. Accessing value from deep inside a dictionary"
   ]
  },
  {
   "cell_type": "code",
   "execution_count": 32,
   "id": "e9be28c3",
   "metadata": {},
   "outputs": [
    {
     "data": {
      "text/plain": [
       "80"
      ]
     },
     "execution_count": 32,
     "metadata": {},
     "output_type": "execute_result"
    }
   ],
   "source": [
    "dict0 = {\n",
    "    \"class\": {\n",
    "        \"student\": {\n",
    "            \"name\": \"Mike\",\n",
    "            \"marks\": {\n",
    "                \"physics\": 70,\n",
    "                \"history\": 80\n",
    "            }\n",
    "        }\n",
    "    }\n",
    "}\n",
    "\n",
    "dict0['class']['student']['marks']['history']     # getting value of 'history' key"
   ]
  },
  {
   "cell_type": "markdown",
   "id": "512435b0",
   "metadata": {},
   "source": [
    "#### 4. Initialize Dictionary with default values"
   ]
  },
  {
   "cell_type": "code",
   "execution_count": 35,
   "id": "48493655",
   "metadata": {},
   "outputs": [
    {
     "data": {
      "text/plain": [
       "{'Kelly': {'designation': 'Developer', 'salary': 8000},\n",
       " 'Emma': {'designation': 'Developer', 'salary': 8000}}"
      ]
     },
     "execution_count": 35,
     "metadata": {},
     "output_type": "execute_result"
    }
   ],
   "source": [
    "employees = ['Kelly', 'Emma']\n",
    "defaults = {\"designation\": 'Developer', \"salary\": 8000}\n",
    "\n",
    "dict1 = dict.fromkeys(employees,defaults)\n",
    "dict1"
   ]
  },
  {
   "cell_type": "markdown",
   "id": "46d70359",
   "metadata": {},
   "source": [
    "#### 5. Creating new dictionary with subset keys from another dictionary"
   ]
  },
  {
   "cell_type": "code",
   "execution_count": 45,
   "id": "9f30b1e1",
   "metadata": {},
   "outputs": [
    {
     "data": {
      "text/plain": [
       "{'name': 'Kelly', 'salary': 8000}"
      ]
     },
     "execution_count": 45,
     "metadata": {},
     "output_type": "execute_result"
    }
   ],
   "source": [
    "dict0 = {\n",
    "    \"name\": \"Kelly\",\n",
    "    \"age\": 25,\n",
    "    \"salary\": 8000,\n",
    "    \"city\": \"New york\"}\n",
    "\n",
    "# Keys to extract\n",
    "keys = [\"name\", \"salary\"]\n",
    "\n",
    "dict1 = {k:dict0[k] for k in keys}\n",
    "dict1"
   ]
  },
  {
   "cell_type": "code",
   "execution_count": 47,
   "id": "b961ff5d",
   "metadata": {},
   "outputs": [
    {
     "data": {
      "text/plain": [
       "{'name': 'Kelly', 'salary': 8000}"
      ]
     },
     "execution_count": 47,
     "metadata": {},
     "output_type": "execute_result"
    }
   ],
   "source": [
    "dict2 = {}\n",
    "for k in keys:\n",
    "    dict2.update({k:dict0[k]})\n",
    "dict2"
   ]
  },
  {
   "cell_type": "markdown",
   "id": "c06ad6f8",
   "metadata": {},
   "source": [
    "#### 6. Removing list of specified pairs from dictionary"
   ]
  },
  {
   "cell_type": "code",
   "execution_count": 49,
   "id": "bbf0a3c5",
   "metadata": {},
   "outputs": [
    {
     "data": {
      "text/plain": [
       "{'age': 25, 'city': 'New york'}"
      ]
     },
     "execution_count": 49,
     "metadata": {},
     "output_type": "execute_result"
    }
   ],
   "source": [
    "dict0 = {\n",
    "    \"name\": \"Kelly\",\n",
    "    \"age\": 25,\n",
    "    \"salary\": 8000,\n",
    "    \"city\": \"New york\"\n",
    "}\n",
    "\n",
    "# Keys to remove\n",
    "keys = [\"name\", \"salary\"]\n",
    "\n",
    "for k in keys:\n",
    "    dict0.pop(k)\n",
    "dict0"
   ]
  },
  {
   "cell_type": "markdown",
   "id": "8029716b",
   "metadata": {},
   "source": [
    "#### 7. Check if value exist in dictionary"
   ]
  },
  {
   "cell_type": "code",
   "execution_count": 59,
   "id": "9e0f6ee9",
   "metadata": {},
   "outputs": [
    {
     "name": "stdout",
     "output_type": "stream",
     "text": [
      "200 is included in dictionary\n",
      "200 is included in dictionary\n"
     ]
    }
   ],
   "source": [
    "dict0 = {'a': 100, 'b': 200, 'c': 300}\n",
    "\n",
    "\n",
    "if 200 in dict0.values():                    # option 1: Using if statement\n",
    "    print('200 is included in dictionary')\n",
    "\n",
    "for x in dict0:                              # option 2: Using For loop + if statement \n",
    "    if dict0[x] == 200:\n",
    "        print('200 is included in dictionary')\n",
    "        break"
   ]
  },
  {
   "cell_type": "markdown",
   "id": "d313bde3",
   "metadata": {},
   "source": [
    "#### 8. Rename key of a dictionary"
   ]
  },
  {
   "cell_type": "code",
   "execution_count": 66,
   "id": "9fd4977f",
   "metadata": {},
   "outputs": [
    {
     "data": {
      "text/plain": [
       "{'name': 'Kelly', 'age': 25, 'salary': 8000, 'location': 'New york'}"
      ]
     },
     "execution_count": 66,
     "metadata": {},
     "output_type": "execute_result"
    }
   ],
   "source": [
    "dict0 = {\n",
    "  \"name\": \"Kelly\",\n",
    "  \"age\": 25,\n",
    "  \"salary\": 8000,\n",
    "  \"city\": \"New york\"\n",
    "}\n",
    "\n",
    "dict0['location'] = dict0.pop('city')        # Option 1: Using pop() only\n",
    "dict0"
   ]
  },
  {
   "cell_type": "code",
   "execution_count": 67,
   "id": "ed131065",
   "metadata": {},
   "outputs": [
    {
     "data": {
      "text/plain": [
       "{'name': 'Kelly', 'age': 25, 'salary': 8000, 'location': 'New york'}"
      ]
     },
     "execution_count": 67,
     "metadata": {},
     "output_type": "execute_result"
    }
   ],
   "source": [
    "dict0 = {\n",
    "  \"name\": \"Kelly\",\n",
    "  \"age\": 25,\n",
    "  \"salary\": 8000,\n",
    "  \"city\": \"New york\"\n",
    "}\n",
    "\n",
    "x = dict0.pop('city')        # Option 2: Using pop() + update() functions\n",
    "dict0.update({'location':x})\n",
    "dict0"
   ]
  },
  {
   "cell_type": "markdown",
   "id": "7f882884",
   "metadata": {},
   "source": [
    "#### 9. Get the key of a minimum value from the following dictionary"
   ]
  },
  {
   "cell_type": "code",
   "execution_count": 74,
   "id": "fc916bb8",
   "metadata": {},
   "outputs": [
    {
     "name": "stdout",
     "output_type": "stream",
     "text": [
      "Math\n",
      "65\n"
     ]
    }
   ],
   "source": [
    "dict0 = {\n",
    "  'Physics': 82,\n",
    "  'Math': 65,\n",
    "  'history': 75\n",
    "}\n",
    "\n",
    "minKey = min(dict0, key=dict0.get)       # key with min value\n",
    "print(minKey)\n",
    "\n",
    "minValue = min(dict0.values())           # value of min value\n",
    "print(minValue)\n"
   ]
  },
  {
   "cell_type": "markdown",
   "id": "fa60426f",
   "metadata": {},
   "source": [
    "#### 10. Change value of a key in nest dictionary"
   ]
  },
  {
   "cell_type": "code",
   "execution_count": 75,
   "id": "2e1d9307",
   "metadata": {},
   "outputs": [
    {
     "data": {
      "text/plain": [
       "{'emp1': {'name': 'Jhon', 'salary': 7500},\n",
       " 'emp2': {'name': 'Emma', 'salary': 8000},\n",
       " 'emp3': {'name': 'Brad', 'salary': 8500}}"
      ]
     },
     "execution_count": 75,
     "metadata": {},
     "output_type": "execute_result"
    }
   ],
   "source": [
    "dict0 = {\n",
    "    'emp1': {'name': 'Jhon', 'salary': 7500},\n",
    "    'emp2': {'name': 'Emma', 'salary': 8000},\n",
    "    'emp3': {'name': 'Brad', 'salary': 500}\n",
    "}\n",
    "\n",
    "dict0['emp3']['salary'] = 8500\n",
    "dict0"
   ]
  }
 ],
 "metadata": {
  "kernelspec": {
   "display_name": "Python 3 (ipykernel)",
   "language": "python",
   "name": "python3"
  },
  "language_info": {
   "codemirror_mode": {
    "name": "ipython",
    "version": 3
   },
   "file_extension": ".py",
   "mimetype": "text/x-python",
   "name": "python",
   "nbconvert_exporter": "python",
   "pygments_lexer": "ipython3",
   "version": "3.9.12"
  }
 },
 "nbformat": 4,
 "nbformat_minor": 5
}
