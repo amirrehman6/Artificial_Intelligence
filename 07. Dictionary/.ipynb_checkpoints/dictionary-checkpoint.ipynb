{
 "cells": [
  {
   "cell_type": "markdown",
   "id": "bc62060b",
   "metadata": {},
   "source": [
    "# Dictionary"
   ]
  },
  {
   "cell_type": "markdown",
   "id": "1b0e36a8",
   "metadata": {},
   "source": [
    "## Table of Contents"
   ]
  },
  {
   "cell_type": "markdown",
   "id": "dc75ff75",
   "metadata": {},
   "source": [
    "1. Definition\n",
    "2. Syntax\n",
    "3. Manipulation\n",
    "4. List of Methods\n",
    "5. Tools"
   ]
  },
  {
   "cell_type": "markdown",
   "id": "945c31b6",
   "metadata": {},
   "source": [
    "### 1. Definition"
   ]
  },
  {
   "cell_type": "markdown",
   "id": "97f8bb6c",
   "metadata": {},
   "source": [
    "1. dictionary is a Data type\n",
    "2. dictionary is an array with pair of values (i.e. key:value)\n",
    "3. dictionary can hold multiple data types\n",
    "4. dictionary is mutable (i.e. values can be added, modified and deleted)\n",
    "5. Key functions as index in list"
   ]
  },
  {
   "cell_type": "markdown",
   "id": "be853fae",
   "metadata": {},
   "source": [
    "### 2. Syntax"
   ]
  },
  {
   "cell_type": "markdown",
   "id": "8722b830",
   "metadata": {},
   "source": [
    "1. Always in curly braces\n",
    "2. Separator between key and value ---> :\n",
    "3. Separator between key:value pair ---> ,\n",
    "4. key can be string or int datatype only\n",
    "5. value can be any datatype\n",
    "6. value can be array"
   ]
  },
  {
   "cell_type": "code",
   "execution_count": 6,
   "id": "00f69ef3",
   "metadata": {},
   "outputs": [],
   "source": [
    "data = {\n",
    "    'key1': 'value1',\n",
    "    'key2': 'value2',\n",
    "    'key3': 'value3'\n",
    "}"
   ]
  },
  {
   "cell_type": "markdown",
   "id": "27276721",
   "metadata": {},
   "source": [
    "##### Parameters of lists are:"
   ]
  },
  {
   "cell_type": "code",
   "execution_count": 19,
   "id": "06d21e02",
   "metadata": {},
   "outputs": [
    {
     "name": "stdout",
     "output_type": "stream",
     "text": [
      "<class 'dict'>\n",
      "2268957614400\n",
      "3\n",
      "6\n"
     ]
    }
   ],
   "source": [
    "print(type(data))\n",
    "print(id(data))\n",
    "print(len(data))\n",
    "print(len(data['key1']))"
   ]
  },
  {
   "cell_type": "markdown",
   "id": "878563d8",
   "metadata": {},
   "source": [
    "### 3. Manipulation of Dictionary"
   ]
  },
  {
   "cell_type": "markdown",
   "id": "9646078a",
   "metadata": {},
   "source": [
    "1. Accessing value\n",
    "2. Adding value\n",
    "3. Deleting value\n",
    "4. Changing value "
   ]
  },
  {
   "cell_type": "markdown",
   "id": "0ad191c0",
   "metadata": {},
   "source": [
    "#### Accessing Values from Dictionary"
   ]
  },
  {
   "cell_type": "markdown",
   "id": "d3da5999",
   "metadata": {},
   "source": [
    "1. dictName[key]"
   ]
  },
  {
   "cell_type": "code",
   "execution_count": 2,
   "id": "f4385450",
   "metadata": {},
   "outputs": [],
   "source": [
    "emp_123 = {\n",
    "    'first_name': 'Amir',\n",
    "    'last_name': 'Rehman',\n",
    "    'designation':'Senior Manager',\n",
    "    'grade':'BS-19',\n",
    "    'qualification':'Chartered Accountant',\n",
    "    'Experience':'15 years'\n",
    "}"
   ]
  },
  {
   "cell_type": "code",
   "execution_count": 3,
   "id": "a4283c59",
   "metadata": {},
   "outputs": [
    {
     "name": "stdout",
     "output_type": "stream",
     "text": [
      "Amir\n"
     ]
    }
   ],
   "source": [
    "print(emp_123['first_name'])    # 1. dictName[key]"
   ]
  },
  {
   "cell_type": "markdown",
   "id": "c58bfcf2",
   "metadata": {},
   "source": [
    "#### Adding Elements to Dictionary"
   ]
  },
  {
   "cell_type": "markdown",
   "id": "944d56a5",
   "metadata": {},
   "source": [
    "1. dictName[key] = value"
   ]
  },
  {
   "cell_type": "code",
   "execution_count": 26,
   "id": "5e1489ee",
   "metadata": {},
   "outputs": [],
   "source": [
    "emp_234 = {}                         # empty dictionary"
   ]
  },
  {
   "cell_type": "code",
   "execution_count": 27,
   "id": "6f75c1ce",
   "metadata": {},
   "outputs": [
    {
     "data": {
      "text/plain": [
       "{'first_name': 'Bilal'}"
      ]
     },
     "execution_count": 27,
     "metadata": {},
     "output_type": "execute_result"
    }
   ],
   "source": [
    "emp_234['first_name'] = 'Bilal'      # 1. dictName[key] = value\n",
    "emp_234"
   ]
  },
  {
   "cell_type": "markdown",
   "id": "7b3dc0cd",
   "metadata": {},
   "source": [
    "#### Deleting Elements from Dictionary"
   ]
  },
  {
   "cell_type": "markdown",
   "id": "4d714bb3",
   "metadata": {},
   "source": [
    "1. del dictName[key]"
   ]
  },
  {
   "cell_type": "code",
   "execution_count": 28,
   "id": "dabeddcd",
   "metadata": {},
   "outputs": [
    {
     "data": {
      "text/plain": [
       "{'first_name': 'Bilal'}"
      ]
     },
     "execution_count": 28,
     "metadata": {},
     "output_type": "execute_result"
    }
   ],
   "source": [
    "emp_234"
   ]
  },
  {
   "cell_type": "code",
   "execution_count": 29,
   "id": "1e529a50",
   "metadata": {},
   "outputs": [
    {
     "data": {
      "text/plain": [
       "{}"
      ]
     },
     "execution_count": 29,
     "metadata": {},
     "output_type": "execute_result"
    }
   ],
   "source": [
    "del emp_234['first_name']\n",
    "emp_234"
   ]
  },
  {
   "cell_type": "markdown",
   "id": "59ba6996",
   "metadata": {},
   "source": [
    "#### Changing Value in Dictionary"
   ]
  },
  {
   "cell_type": "markdown",
   "id": "29ac9190",
   "metadata": {},
   "source": [
    "1. dictName[key] = 'new value'"
   ]
  },
  {
   "cell_type": "code",
   "execution_count": 6,
   "id": "e80739bd",
   "metadata": {},
   "outputs": [
    {
     "data": {
      "text/plain": [
       "{'first_name': 'Amir',\n",
       " 'last_name': 'Rehman',\n",
       " 'designation': 'Senior Manager Accounts',\n",
       " 'grade': 'BS-19',\n",
       " 'qualification': 'Chartered Accountant',\n",
       " 'Experience': '15 years'}"
      ]
     },
     "execution_count": 6,
     "metadata": {},
     "output_type": "execute_result"
    }
   ],
   "source": [
    "emp_123['designation'] = 'Senior Manager Accounts'  # 1. dictName[key] = 'new value'\n",
    "emp_123"
   ]
  },
  {
   "cell_type": "markdown",
   "id": "b20decd9",
   "metadata": {},
   "source": [
    "### 4. Dictionary Methods"
   ]
  },
  {
   "cell_type": "markdown",
   "id": "2e777766",
   "metadata": {},
   "source": [
    "1. ADDING ELEMENTS\n",
    "    1. update()\n",
    "    2. setdefault()\n",
    "2. REMOVING ELEMENTS\n",
    "    1. pop()\n",
    "    2. popitem()\n",
    "    3. clear()\n",
    "    4. del            # this is a keyword\n",
    "3. OBTAINING ELEMENTS\n",
    "    1. values()\n",
    "    2. keys()\n",
    "    3. items()\n",
    "    4. get()\n",
    "4. OTHERS\n",
    "    1. copy()         # deep copy\n",
    "    2. fromkeys()"
   ]
  },
  {
   "cell_type": "markdown",
   "id": "176abf8f",
   "metadata": {},
   "source": [
    "#### Adding Elements"
   ]
  },
  {
   "cell_type": "code",
   "execution_count": 37,
   "id": "b396abb0",
   "metadata": {},
   "outputs": [
    {
     "name": "stdout",
     "output_type": "stream",
     "text": [
      "{'a': 'b', 'x': 'y'}\n",
      "{'a': 'b', 'x': 'y', 'i': 'j'}\n"
     ]
    }
   ],
   "source": [
    "# update()\n",
    "\n",
    "############################################\n",
    "# add key:value pair to dictionary\n",
    "# syntax\n",
    "#       dictName.update({key:value})\n",
    "############################################\n",
    "\n",
    "\n",
    "x = {\n",
    "    'a':'b',\n",
    "    'x':'y'\n",
    "}\n",
    "print(x)\n",
    "\n",
    "x.update({'i':'j'})\n",
    "print(x)"
   ]
  },
  {
   "cell_type": "code",
   "execution_count": 38,
   "id": "42ea2c41",
   "metadata": {},
   "outputs": [
    {
     "name": "stdout",
     "output_type": "stream",
     "text": [
      "{'a': 'b', 'x': 'y'}\n",
      "b\n",
      "b\n",
      "{'a': 'b', 'x': 'y', 'i': 'j'}\n"
     ]
    }
   ],
   "source": [
    "# setdefault()\n",
    "\n",
    "############################################\n",
    "# access / add key (with value) to the dictionary \n",
    "# syntax\n",
    "#       dictName.setdefault(key:value) ----> value is optional\n",
    "############################################\n",
    "\n",
    "\n",
    "x = {\n",
    "    'a':'b',\n",
    "    'x':'y'\n",
    "}\n",
    "print(x)\n",
    "\n",
    "j = x.setdefault('a')              # 1. will access value of the passed key if found\n",
    "print(j)\n",
    "\n",
    "j = x.setdefault('a','c')          # 2. will NOT update value if key is found in dictionary\n",
    "print(j)\n",
    "\n",
    "x.setdefault('i','j')              # 3. will add key:value pair if key is not found (value can be assigned to variable)\n",
    "print(x)\n"
   ]
  },
  {
   "cell_type": "markdown",
   "id": "40b52d50",
   "metadata": {},
   "source": [
    "#### Removing Elements"
   ]
  },
  {
   "cell_type": "code",
   "execution_count": 39,
   "id": "8ac280ab",
   "metadata": {},
   "outputs": [
    {
     "name": "stdout",
     "output_type": "stream",
     "text": [
      "{'a': 'b', 'x': 'y'}\n",
      "{'x': 'y'}\n",
      "{}\n"
     ]
    }
   ],
   "source": [
    "# pop()\n",
    "\n",
    "############################################\n",
    "# delete the value of key passed to it\n",
    "# syntax\n",
    "#       dict.pop(key)\n",
    "############################################\n",
    "\n",
    "\n",
    "x = {\n",
    "    'a':'b',\n",
    "    'x':'y'\n",
    "}\n",
    "print(x)\n",
    "x.pop('a')\n",
    "print(x)\n",
    "x.popitem()\n",
    "print(x)"
   ]
  },
  {
   "cell_type": "code",
   "execution_count": 74,
   "id": "42a2014c",
   "metadata": {},
   "outputs": [
    {
     "name": "stdout",
     "output_type": "stream",
     "text": [
      "{'a': 'b', 'x': 'y'}\n",
      "{'x': 'y'}\n",
      "{}\n"
     ]
    }
   ],
   "source": [
    "# popitem()\n",
    "\n",
    "############################################\n",
    "# delete last key:value pair\n",
    "# syntax\n",
    "#       dict.popitem()\n",
    "############################################\n",
    "\n",
    "\n",
    "x = {\n",
    "    'a':'b',\n",
    "    'x':'y'\n",
    "}\n",
    "print(x)\n",
    "x.pop('a')\n",
    "print(x)\n",
    "x.popitem()\n",
    "print(x)"
   ]
  },
  {
   "cell_type": "code",
   "execution_count": 41,
   "id": "7a57a95d",
   "metadata": {},
   "outputs": [
    {
     "name": "stdout",
     "output_type": "stream",
     "text": [
      "{'a': 'b', 'x': 'y'}\n",
      "{}\n"
     ]
    }
   ],
   "source": [
    "# clear()\n",
    "\n",
    "############################################\n",
    "# delete all data (dict become empty)\n",
    "# syntax\n",
    "#       dict.clear()\n",
    "############################################\n",
    "\n",
    "\n",
    "x = {\n",
    "    'a':'b',\n",
    "    'x':'y'\n",
    "}\n",
    "print(x)\n",
    "x.clear()\n",
    "print(x)"
   ]
  },
  {
   "cell_type": "code",
   "execution_count": 42,
   "id": "8019c063",
   "metadata": {},
   "outputs": [
    {
     "name": "stdout",
     "output_type": "stream",
     "text": [
      "{'a': 'b', 'x': 'y'}\n",
      "{'x': 'y'}\n"
     ]
    }
   ],
   "source": [
    "# del    -----> this is a keyword\n",
    "\n",
    "############################################\n",
    "# delete the dict completely (or specific value as per key)\n",
    "# syntax\n",
    "#       del dictName\n",
    "############################################\n",
    "\n",
    "\n",
    "x = {\n",
    "    'a':'b',\n",
    "    'x':'y'\n",
    "}\n",
    "print(x)\n",
    "\n",
    "del x['a']     # delete value as the key\n",
    "print(x)\n",
    "\n",
    "del x\n",
    "# print(x)     # will return ' NameError: x is not defined'"
   ]
  },
  {
   "cell_type": "markdown",
   "id": "8f8c7cef",
   "metadata": {},
   "source": [
    "#### Obtaining Elements"
   ]
  },
  {
   "cell_type": "code",
   "execution_count": 43,
   "id": "dae52fbe",
   "metadata": {},
   "outputs": [
    {
     "name": "stdout",
     "output_type": "stream",
     "text": [
      "honda\n",
      "city\n",
      "2004\n",
      "1300cc\n"
     ]
    }
   ],
   "source": [
    "# values()\n",
    "\n",
    "################################\n",
    "# gets values from dictionary\n",
    "# syntax\n",
    "#       dictName.values()\n",
    "################################\n",
    "\n",
    "car = {\n",
    "    'make':'honda',\n",
    "    'model':'city',\n",
    "    'year':'2004',\n",
    "    'engineCC':'1300cc'\n",
    "}\n",
    "\n",
    "for values in car.values():          # 1. Printing Values only\n",
    "    print(values)"
   ]
  },
  {
   "cell_type": "code",
   "execution_count": 44,
   "id": "294264ae",
   "metadata": {},
   "outputs": [
    {
     "name": "stdout",
     "output_type": "stream",
     "text": [
      "make\n",
      "model\n",
      "year\n",
      "engineCC\n"
     ]
    }
   ],
   "source": [
    "# keys()\n",
    "\n",
    "################################\n",
    "# gets keys from dictionary\n",
    "# syntax\n",
    "#       dictName.keys()\n",
    "################################\n",
    "\n",
    "\n",
    "for keys in car.keys():              # 2. Printing Keys only\n",
    "    print(keys)"
   ]
  },
  {
   "cell_type": "code",
   "execution_count": 45,
   "id": "852ffb7a",
   "metadata": {},
   "outputs": [
    {
     "name": "stdout",
     "output_type": "stream",
     "text": [
      "make ---> honda\n",
      "model ---> city\n",
      "year ---> 2004\n",
      "engineCC ---> 1300cc\n"
     ]
    }
   ],
   "source": [
    "# items()\n",
    "\n",
    "############################################\n",
    "# gets both keys and values from dictionary\n",
    "# syntax\n",
    "#       dictName.values()\n",
    "############################################\n",
    "\n",
    "\n",
    "\n",
    "for keys, values in car.items():     # 3. Printing Both Keys & Values\n",
    "    print(keys, values, sep=\" ---> \")"
   ]
  },
  {
   "cell_type": "code",
   "execution_count": 46,
   "id": "d15ff1f1",
   "metadata": {},
   "outputs": [
    {
     "name": "stdout",
     "output_type": "stream",
     "text": [
      "honda\n",
      "None\n"
     ]
    }
   ],
   "source": [
    "# get()\n",
    "\n",
    "############################################\n",
    "# gets data about key passed to it. (also prevents error in case key is not present)\n",
    "# syntax\n",
    "#       dictName.get(key)\n",
    "############################################\n",
    "\n",
    "print(car.get('make'))\n",
    "print(car.get('hp'))            # no error if key is not present"
   ]
  },
  {
   "cell_type": "markdown",
   "id": "ab37c1d4",
   "metadata": {},
   "source": [
    "#### Other Methods"
   ]
  },
  {
   "cell_type": "code",
   "execution_count": 47,
   "id": "864e0dac",
   "metadata": {},
   "outputs": [
    {
     "data": {
      "text/plain": [
       "{'make': 'honda', 'model': 'city', 'year': '2004', 'engineCC': '1300cc'}"
      ]
     },
     "execution_count": 47,
     "metadata": {},
     "output_type": "execute_result"
    }
   ],
   "source": [
    "# copy()\n",
    "\n",
    "############################################\n",
    "# creates the exact copy of dictionary (not ref to original list)    -----> also know as deep copy\n",
    "# syntax\n",
    "#       newDictName = dictName.copy()\n",
    "############################################\n",
    "\n",
    "newcar = car.copy()\n",
    "newcar"
   ]
  },
  {
   "cell_type": "code",
   "execution_count": 49,
   "id": "e081e695",
   "metadata": {},
   "outputs": [
    {
     "name": "stdout",
     "output_type": "stream",
     "text": [
      "{'school': None, 'course': None, 'batch': None}\n",
      "{'school': 'default value', 'course': 'default value', 'batch': 'default value'}\n"
     ]
    }
   ],
   "source": [
    "# fromkeys()\n",
    "\n",
    "############################################\n",
    "# use to create dictionary with keys passed to it\n",
    "# syntax\n",
    "#       dict.fromkeys(ListName)\n",
    "############################################\n",
    "\n",
    "keys = ['school','course','batch']\n",
    "\n",
    "dictionary1 = dict.fromkeys(keys)\n",
    "dictionary2 = dict.fromkeys(keys,'default value')\n",
    "print(dictionary1)\n",
    "print(dictionary2)"
   ]
  },
  {
   "cell_type": "markdown",
   "id": "493b8624",
   "metadata": {},
   "source": [
    "### 5. Tools"
   ]
  },
  {
   "cell_type": "markdown",
   "id": "75084b43",
   "metadata": {},
   "source": [
    "#### 1. Create dictionary from two lists"
   ]
  },
  {
   "cell_type": "code",
   "execution_count": 57,
   "id": "a4d8f0d0",
   "metadata": {},
   "outputs": [
    {
     "name": "stdout",
     "output_type": "stream",
     "text": [
      "{1: 'x', 2: 'y', 3: 'z'}\n"
     ]
    }
   ],
   "source": [
    "keys = [1, 2, 3]\n",
    "values = ['x', 'y', 'z']\n",
    "\n",
    "dict_1 = dict(zip(keys, values))          # option 1: using zip\n",
    "print(dict_1)"
   ]
  },
  {
   "cell_type": "code",
   "execution_count": 56,
   "id": "d7936777",
   "metadata": {},
   "outputs": [
    {
     "name": "stdout",
     "output_type": "stream",
     "text": [
      "{1: 'x', 2: 'y', 3: 'z'}\n"
     ]
    }
   ],
   "source": [
    "keys = [1, 2, 3]\n",
    "values = ['x', 'y', 'z']\n",
    "\n",
    "dict_2 = {}                               # option 2: for loop + update()\n",
    "for i in range(len(keys)):\n",
    "    dict_2.update({keys[i]:values[i]})\n",
    "print(dict_2)"
   ]
  },
  {
   "cell_type": "markdown",
   "id": "432ada24",
   "metadata": {},
   "source": [
    "#### 2. Merge two dictionaries"
   ]
  },
  {
   "cell_type": "code",
   "execution_count": 60,
   "id": "76b1d1f9",
   "metadata": {},
   "outputs": [
    {
     "name": "stdout",
     "output_type": "stream",
     "text": [
      "{1: 'x', 2: 'y', 3: 'z', 7: 'a', 8: 'b', 9: 'c'}\n"
     ]
    }
   ],
   "source": [
    "x = {1: 'x', 2: 'y', 3: 'z'}              # option 1: ** shortest technique\n",
    "y = {7: 'a', 8: 'b', 9: 'c'}\n",
    "\n",
    "z = { **x, **y}\n",
    "print(z)"
   ]
  },
  {
   "cell_type": "code",
   "execution_count": 61,
   "id": "99cec58c",
   "metadata": {},
   "outputs": [
    {
     "name": "stdout",
     "output_type": "stream",
     "text": [
      "{1: 'x', 2: 'y', 3: 'z', 7: 'a', 8: 'b', 9: 'c'}\n"
     ]
    }
   ],
   "source": [
    "x = {1: 'x', 2: 'y', 3: 'z'}             # Option 2: empty dictionary + update()\n",
    "y = {7: 'a', 8: 'b', 9: 'c'}\n",
    "\n",
    "z = {}\n",
    "z.update(x)\n",
    "z.update(y)\n",
    "print(z)"
   ]
  },
  {
   "cell_type": "code",
   "execution_count": 62,
   "id": "9e1a40d4",
   "metadata": {},
   "outputs": [
    {
     "name": "stdout",
     "output_type": "stream",
     "text": [
      "{1: 'x', 2: 'y', 3: 'z', 7: 'a', 8: 'b', 9: 'c'}\n"
     ]
    }
   ],
   "source": [
    "x = {1: 'x', 2: 'y', 3: 'z'}             # Option 3: copy() + update()\n",
    "y = {7: 'a', 8: 'b', 9: 'c'}\n",
    "\n",
    "z = x.copy()\n",
    "z.update(y)\n",
    "print(z)"
   ]
  },
  {
   "cell_type": "markdown",
   "id": "516413ac",
   "metadata": {},
   "source": [
    "#### 3. Accessing value from deep inside a dictionary"
   ]
  },
  {
   "cell_type": "code",
   "execution_count": 71,
   "id": "cc78aa96",
   "metadata": {},
   "outputs": [
    {
     "name": "stdout",
     "output_type": "stream",
     "text": [
      "80\n"
     ]
    }
   ],
   "source": [
    "sampleDict = {\n",
    "    \"class\": {\n",
    "        \"student\": {\n",
    "            \"name\": \"Mike\",\n",
    "            \"marks\": {\n",
    "                \"physics\": 70,\n",
    "                \"history\": 80\n",
    "            }\n",
    "        }\n",
    "    }\n",
    "}\n",
    "\n",
    "print(sampleDict['class']['student']['marks']['history'])     # prints values of 'history' key"
   ]
  },
  {
   "cell_type": "markdown",
   "id": "71b6f625",
   "metadata": {},
   "source": [
    "#### 4. Initialize Dictionary with default values"
   ]
  },
  {
   "cell_type": "code",
   "execution_count": 66,
   "id": "c2722b0b",
   "metadata": {},
   "outputs": [
    {
     "name": "stdout",
     "output_type": "stream",
     "text": [
      "{'Kelly': {'designation': 'Developer', 'salary': 8000}, 'Emma': {'designation': 'Developer', 'salary': 8000}}\n"
     ]
    }
   ],
   "source": [
    "employees = ['Kelly', 'Emma']\n",
    "defaults = {\"designation\": 'Developer', \"salary\": 8000}\n",
    "\n",
    "newDict = dict.fromkeys(employees,defaults)\n",
    "print(newDict)"
   ]
  },
  {
   "cell_type": "markdown",
   "id": "e2df0eef",
   "metadata": {},
   "source": [
    "#### 5. Creating new dictionary with subset keys from another dictionary "
   ]
  },
  {
   "cell_type": "code",
   "execution_count": 1,
   "id": "afd5b166",
   "metadata": {},
   "outputs": [
    {
     "name": "stdout",
     "output_type": "stream",
     "text": [
      "{'name': 'Kelly', 'salary': 8000}\n"
     ]
    }
   ],
   "source": [
    "sample_dict = {\n",
    "    \"name\": \"Kelly\",\n",
    "    \"age\": 25,\n",
    "    \"salary\": 8000,\n",
    "    \"city\": \"New york\"}\n",
    "\n",
    "# Keys to extract\n",
    "keys = [\"name\", \"salary\"]\n",
    "\n",
    "dict_1 = {k: sample_dict[k] for k in keys}\n",
    "print(dict_1)"
   ]
  },
  {
   "cell_type": "markdown",
   "id": "314bb40f",
   "metadata": {},
   "source": [
    "#### 6. Removing list of specified pairs from dictionary"
   ]
  },
  {
   "cell_type": "code",
   "execution_count": 81,
   "id": "09c63911",
   "metadata": {},
   "outputs": [
    {
     "name": "stdout",
     "output_type": "stream",
     "text": [
      "{'age': 25, 'city': 'New york'}\n"
     ]
    }
   ],
   "source": [
    "sample_dict = {\n",
    "    \"name\": \"Kelly\",\n",
    "    \"age\": 25,\n",
    "    \"salary\": 8000,\n",
    "    \"city\": \"New york\"\n",
    "}\n",
    "\n",
    "# Keys to remove\n",
    "keys = [\"name\", \"salary\"]\n",
    "\n",
    "for k in keys:\n",
    "    sample_dict.pop(k)\n",
    "    \n",
    "print(sample_dict)"
   ]
  },
  {
   "cell_type": "markdown",
   "id": "d0c131f2",
   "metadata": {},
   "source": [
    "#### 7. Check if value exist in dictionary"
   ]
  },
  {
   "cell_type": "code",
   "execution_count": 85,
   "id": "806743a8",
   "metadata": {},
   "outputs": [
    {
     "name": "stdout",
     "output_type": "stream",
     "text": [
      "200 present in a dict\n",
      "200 present in a dict\n"
     ]
    }
   ],
   "source": [
    "sample_dict = {'a': 100, 'b': 200, 'c': 300}\n",
    "\n",
    "\n",
    "for x in sample_dict:                      # 1. option 1: with for loop\n",
    "    if sample_dict[x] == 200:\n",
    "        print('200 present in a dict')\n",
    "        break\n",
    "        \n",
    "if 200 in sample_dict.values():            # 2. option2: with values()\n",
    "    print('200 present in a dict')"
   ]
  },
  {
   "cell_type": "markdown",
   "id": "b923f6da",
   "metadata": {},
   "source": [
    "#### 8. Rename key of a dictionary"
   ]
  },
  {
   "cell_type": "code",
   "execution_count": 89,
   "id": "84139047",
   "metadata": {},
   "outputs": [
    {
     "name": "stdout",
     "output_type": "stream",
     "text": [
      "{'name': 'Kelly', 'age': 25, 'salary': 8000, 'location': 'New york'}\n"
     ]
    }
   ],
   "source": [
    "sample_dict = {\n",
    "  \"name\": \"Kelly\",\n",
    "  \"age\":25,\n",
    "  \"salary\": 8000,\n",
    "  \"city\": \"New york\"\n",
    "}\n",
    "\n",
    "x = sample_dict.pop('city')                            # 1. in two lines (removing + adding)\n",
    "sample_dict.update({'location':x})\n",
    "print(sample_dict)"
   ]
  },
  {
   "cell_type": "code",
   "execution_count": 90,
   "id": "b97bdda0",
   "metadata": {},
   "outputs": [
    {
     "name": "stdout",
     "output_type": "stream",
     "text": [
      "{'name': 'Kelly', 'age': 25, 'salary': 8000, 'location': 'New york'}\n"
     ]
    }
   ],
   "source": [
    "sample_dict = {\n",
    "  \"name\": \"Kelly\",\n",
    "  \"age\":25,\n",
    "  \"salary\": 8000,\n",
    "  \"city\": \"New york\"\n",
    "}\n",
    "\n",
    "sample_dict['location'] = sample_dict.pop('city')      # 2. in one lines (adding + removing)\n",
    "print(sample_dict)"
   ]
  },
  {
   "cell_type": "markdown",
   "id": "78637171",
   "metadata": {},
   "source": [
    "#### 9. Get the key of a minimum value from the following dictionary"
   ]
  },
  {
   "cell_type": "code",
   "execution_count": 99,
   "id": "70367916",
   "metadata": {},
   "outputs": [
    {
     "name": "stdout",
     "output_type": "stream",
     "text": [
      "Math\n",
      "65\n"
     ]
    }
   ],
   "source": [
    "sample_dict = {\n",
    "  'Physics': 82,\n",
    "  'Math': 65,\n",
    "  'history': 75\n",
    "}\n",
    "\n",
    "x = min(sample_dict.values())          # get lowest value\n",
    "\n",
    "print(min(sample_dict, key = sample_dict.get))\n",
    "\n",
    "print(x)"
   ]
  },
  {
   "cell_type": "markdown",
   "id": "d4b21218",
   "metadata": {},
   "source": [
    "#### 10. Change value of a key in nest dictionary"
   ]
  },
  {
   "cell_type": "code",
   "execution_count": 102,
   "id": "d995526f",
   "metadata": {},
   "outputs": [
    {
     "data": {
      "text/plain": [
       "{'emp1': {'name': 'Jhon', 'salary': 7500},\n",
       " 'emp2': {'name': 'Emma', 'salary': 8000},\n",
       " 'emp3': {'name': 'Brad', 'salary': 8500}}"
      ]
     },
     "execution_count": 102,
     "metadata": {},
     "output_type": "execute_result"
    }
   ],
   "source": [
    "sample_dict = {\n",
    "    'emp1': {'name': 'Jhon', 'salary': 7500},\n",
    "    'emp2': {'name': 'Emma', 'salary': 8000},\n",
    "    'emp3': {'name': 'Brad', 'salary': 500}\n",
    "}\n",
    "\n",
    "sample_dict['emp3']['salary'] = 8500\n",
    "sample_dict"
   ]
  }
 ],
 "metadata": {
  "kernelspec": {
   "display_name": "Python 3 (ipykernel)",
   "language": "python",
   "name": "python3"
  },
  "language_info": {
   "codemirror_mode": {
    "name": "ipython",
    "version": 3
   },
   "file_extension": ".py",
   "mimetype": "text/x-python",
   "name": "python",
   "nbconvert_exporter": "python",
   "pygments_lexer": "ipython3",
   "version": "3.9.12"
  }
 },
 "nbformat": 4,
 "nbformat_minor": 5
}
