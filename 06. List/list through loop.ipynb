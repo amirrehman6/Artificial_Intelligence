{
 "cells": [
  {
   "cell_type": "code",
   "execution_count": 6,
   "id": "57eeefbe",
   "metadata": {},
   "outputs": [
    {
     "name": "stdout",
     "output_type": "stream",
     "text": [
      "number for squares\n",
      "5\n",
      "[1, 4, 9, 16, 25]\n"
     ]
    }
   ],
   "source": [
    "x = input('number for squares\\n')\n",
    "x = int(x)\n",
    "squares = [i * i for i in range(1,x+1)]\n",
    "print(squares)"
   ]
  },
  {
   "cell_type": "code",
   "execution_count": 8,
   "id": "9e2f041d",
   "metadata": {},
   "outputs": [
    {
     "name": "stdout",
     "output_type": "stream",
     "text": [
      "Please enter number for square values\n",
      "x\n",
      "Sorry! Your input is not correct\n",
      "Please enter number for square values \n",
      "5\n",
      "[1, 4, 9, 16, 25]\n"
     ]
    }
   ],
   "source": [
    "x = input('Please enter number for square values\\n')\n",
    "while True:\n",
    "    try:\n",
    "        x = int(x)\n",
    "        break\n",
    "    except ValueError:\n",
    "        print('Sorry! Your input is not correct')\n",
    "        x = input('Please enter number for square values \\n')\n",
    "squares = [i * i for i in range(1,x+1)]\n",
    "print(squares)    "
   ]
  },
  {
   "cell_type": "code",
   "execution_count": 9,
   "id": "82000ab1",
   "metadata": {},
   "outputs": [
    {
     "name": "stdout",
     "output_type": "stream",
     "text": [
      "Please enter number for square values\n",
      "g\n",
      "Sorry! Your input is not correct\n",
      "Please enter number for square values\n",
      "5\n",
      "[1, 4, 9, 16, 25]\n"
     ]
    }
   ],
   "source": [
    "while True:\n",
    "    try:\n",
    "        x = int(input('Please enter number for square values\\n'))\n",
    "        break\n",
    "    except ValueError:\n",
    "        print('Sorry! Your input is not correct')\n",
    "squares = [i * i for i in range(1,x+1)]\n",
    "print(squares) "
   ]
  },
  {
   "cell_type": "code",
   "execution_count": null,
   "id": "6750329f",
   "metadata": {},
   "outputs": [],
   "source": []
  }
 ],
 "metadata": {
  "kernelspec": {
   "display_name": "Python 3 (ipykernel)",
   "language": "python",
   "name": "python3"
  },
  "language_info": {
   "codemirror_mode": {
    "name": "ipython",
    "version": 3
   },
   "file_extension": ".py",
   "mimetype": "text/x-python",
   "name": "python",
   "nbconvert_exporter": "python",
   "pygments_lexer": "ipython3",
   "version": "3.9.12"
  }
 },
 "nbformat": 4,
 "nbformat_minor": 5
}
