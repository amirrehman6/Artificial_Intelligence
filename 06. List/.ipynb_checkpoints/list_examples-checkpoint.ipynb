{
 "cells": [
  {
   "cell_type": "markdown",
   "id": "fde324cd",
   "metadata": {},
   "source": [
    "# List - Examples & Tools"
   ]
  },
  {
   "cell_type": "markdown",
   "id": "b4417cd1",
   "metadata": {},
   "source": [
    "## Examples"
   ]
  },
  {
   "cell_type": "markdown",
   "id": "5f3f4947",
   "metadata": {},
   "source": [
    "#### 1. Reverse a list in Python"
   ]
  },
  {
   "cell_type": "code",
   "execution_count": 12,
   "id": "cf1f6e6a",
   "metadata": {},
   "outputs": [
    {
     "name": "stdout",
     "output_type": "stream",
     "text": [
      "[500, 400, 300, 200, 100]\n"
     ]
    }
   ],
   "source": [
    "list1 = [100, 200, 300, 400, 500]\n",
    "\n",
    "list1.reverse()\n",
    "print(list1)"
   ]
  },
  {
   "cell_type": "markdown",
   "id": "55459e53",
   "metadata": {},
   "source": [
    "#### 2. Concatenate two lists index-wise"
   ]
  },
  {
   "cell_type": "code",
   "execution_count": 17,
   "id": "f3598ec2",
   "metadata": {},
   "outputs": [
    {
     "name": "stdout",
     "output_type": "stream",
     "text": [
      "['My', 'name', 'is', 'Kelly']\n"
     ]
    }
   ],
   "source": [
    "list1 = [\"M\", \"na\", \"i\", \"Ke\"]\n",
    "list2 = [\"y\", \"me\", \"s\", \"lly\"]\n",
    "\n",
    "list3 = []                            # Option 1: using for loop + append() function\n",
    "for x in range(len(list1)):                             \n",
    "    list3.append(list1[x] + list2[x]) \n",
    "\n",
    "print(list3)"
   ]
  },
  {
   "cell_type": "code",
   "execution_count": 20,
   "id": "b2052699",
   "metadata": {},
   "outputs": [
    {
     "name": "stdout",
     "output_type": "stream",
     "text": [
      "['My', 'name', 'is', 'Kelly']\n"
     ]
    }
   ],
   "source": [
    "list1 = [\"M\", \"na\", \"i\", \"Ke\"]\n",
    "list2 = [\"y\", \"me\", \"s\", \"lly\"]\n",
    "\n",
    "list3 = [i + j for i, j in zip(list1,list2)]      # option 2: using zip() function\n",
    "print(list3)"
   ]
  },
  {
   "cell_type": "markdown",
   "id": "5a90c7ee",
   "metadata": {},
   "source": [
    "#### 3. Turn every item of a list into its square"
   ]
  },
  {
   "cell_type": "code",
   "execution_count": 23,
   "id": "2b7b5c29",
   "metadata": {},
   "outputs": [
    {
     "name": "stdout",
     "output_type": "stream",
     "text": [
      "[1, 4, 9, 16, 25, 36, 49]\n"
     ]
    }
   ],
   "source": [
    "numbers = [1, 2, 3, 4, 5, 6, 7]\n",
    "\n",
    "for i in range(len(numbers)):\n",
    "    numbers[i] = numbers[i]*numbers[i]\n",
    "\n",
    "print(numbers)"
   ]
  },
  {
   "cell_type": "markdown",
   "id": "d72b9aac",
   "metadata": {},
   "source": [
    "#### 4: Concatenate two lists in the following order"
   ]
  },
  {
   "cell_type": "code",
   "execution_count": 8,
   "id": "7d6e473e",
   "metadata": {},
   "outputs": [
    {
     "name": "stdout",
     "output_type": "stream",
     "text": [
      "['Hello Dear', 'Hello Sir', 'take Dear', 'take Sir']\n",
      "['Hello Dear', 'Hello Sir', 'take Dear', 'take Sir']\n"
     ]
    }
   ],
   "source": [
    "list1 = [\"Hello \", \"take \"]\n",
    "list2 = [\"Dear\", \"Sir\"]\n",
    "\n",
    "# output: ['Hello Dear', 'Hello Sir', 'take Dear', 'take Sir']\n",
    "\n",
    "list3 = []                                      # Option 1: nested for loop\n",
    "for x in list1:\n",
    "    for y in list2:\n",
    "        list3.append(x + y)\n",
    "print(list3)\n",
    "\n",
    "\n",
    "list4 = [x + y for x in list1 for y in list2]   # Option 2: list comprehension\n",
    "print(list4)\n"
   ]
  },
  {
   "cell_type": "markdown",
   "id": "bc7acf74",
   "metadata": {},
   "source": [
    "#### 5: Iterate both lists simultaneously"
   ]
  },
  {
   "cell_type": "code",
   "execution_count": 14,
   "id": "a5578f2c",
   "metadata": {},
   "outputs": [
    {
     "name": "stdout",
     "output_type": "stream",
     "text": [
      "10 400\n",
      "20 300\n",
      "30 200\n",
      "40 100\n",
      "\n",
      "10 100\n",
      "20 200\n",
      "30 300\n",
      "40 400\n"
     ]
    }
   ],
   "source": [
    "list1 = [10, 20, 30, 40]\n",
    "list2 = [100, 200, 300, 400]\n",
    "\n",
    "list2.reverse()                               # Option 1: for loop\n",
    "for x in range(len(list1)):\n",
    "    print(list1[x], list2[x])\n",
    "    \n",
    "print(\"\")\n",
    "for x, y in zip(list1, list2[::-1]):          # Option 2: for loop + zip()\n",
    "    print(x,y)\n"
   ]
  },
  {
   "cell_type": "markdown",
   "id": "4b459e25",
   "metadata": {},
   "source": [
    "#### 6: Remove empty strings from the list of strings"
   ]
  },
  {
   "cell_type": "code",
   "execution_count": 22,
   "id": "1099021d",
   "metadata": {},
   "outputs": [
    {
     "name": "stdout",
     "output_type": "stream",
     "text": [
      "['Mike', 'Emma', 'Kelly', 'Brad']\n"
     ]
    }
   ],
   "source": [
    "list1 = [\"Mike\", \"\", \"Emma\", \"Kelly\", \"\", \"Brad\"]\n",
    "\n",
    "for x in list1:                       # Option 1: for loop\n",
    "    if x == \"\":\n",
    "        list1.remove(x)\n",
    "print(list1)"
   ]
  },
  {
   "cell_type": "code",
   "execution_count": 25,
   "id": "f10ff9bc",
   "metadata": {},
   "outputs": [
    {
     "name": "stdout",
     "output_type": "stream",
     "text": [
      "['Mike', 'Emma', 'Kelly', 'Brad']\n"
     ]
    }
   ],
   "source": [
    "list1 = [\"Mike\", \"\", \"Emma\", \"Kelly\", \"\", \"Brad\"]\n",
    "\n",
    "list1 = list(filter(None, list1))     # Option 2: filter() + list\n",
    "print(list1)"
   ]
  },
  {
   "cell_type": "markdown",
   "id": "645d82ec",
   "metadata": {},
   "source": [
    "#### 7: Add new item to list after a specified item"
   ]
  },
  {
   "cell_type": "code",
   "execution_count": 4,
   "id": "1c5677cd",
   "metadata": {},
   "outputs": [
    {
     "name": "stdout",
     "output_type": "stream",
     "text": [
      "[10, 20, [300, 400, [5000, 6000, 7000], 500], 30, 40]\n"
     ]
    }
   ],
   "source": [
    "list1 = [10, 20, [300, 400, [5000, 6000], 500], 30, 40]\n",
    "\n",
    "# add 7000 after 6000\n",
    "\n",
    "list1[2][2].append(7000)\n",
    "print(list1)"
   ]
  },
  {
   "cell_type": "markdown",
   "id": "b40bb179",
   "metadata": {},
   "source": [
    "#### 8: Extend nested list by adding the sublist"
   ]
  },
  {
   "cell_type": "code",
   "execution_count": 27,
   "id": "df102b5d",
   "metadata": {},
   "outputs": [
    {
     "name": "stdout",
     "output_type": "stream",
     "text": [
      "['a', 'b', ['c', ['d', 'e', ['f', 'g', 'h', 'i', 'j'], 'k'], 'l'], 'm', 'n']\n"
     ]
    }
   ],
   "source": [
    "list1 = [\"a\", \"b\", [\"c\", [\"d\", \"e\", [\"f\", \"g\"], \"k\"], \"l\"], \"m\", \"n\"]\n",
    "\n",
    "# sub list to add\n",
    "sub_list = [\"h\", \"i\", \"j\"]\n",
    "\n",
    "list1[2][1][2].extend(sub_list)\n",
    "print(list1)"
   ]
  },
  {
   "cell_type": "markdown",
   "id": "33360e52",
   "metadata": {},
   "source": [
    "#### 9: Replace list’s item with new value if found"
   ]
  },
  {
   "cell_type": "code",
   "execution_count": 31,
   "id": "5a2ee594",
   "metadata": {},
   "outputs": [
    {
     "name": "stdout",
     "output_type": "stream",
     "text": [
      "[5, 10, 15, 200, 25, 50, 20]\n"
     ]
    }
   ],
   "source": [
    "list1 = [5, 10, 15, 20, 25, 50, 20]\n",
    "\n",
    "index = list1.index(20)\n",
    "list1[index] = 200\n",
    "print(list1)"
   ]
  },
  {
   "cell_type": "markdown",
   "id": "f934f8a5",
   "metadata": {},
   "source": [
    "#### 10: Remove all occurrences of a specific item from a list"
   ]
  },
  {
   "cell_type": "code",
   "execution_count": 35,
   "id": "bb522f14",
   "metadata": {},
   "outputs": [
    {
     "name": "stdout",
     "output_type": "stream",
     "text": [
      "[5, 15, 25, 50]\n"
     ]
    }
   ],
   "source": [
    "list1 = [5, 20, 15, 20, 25, 50, 20]\n",
    "\n",
    "for x in list1:\n",
    "    if x == 20:\n",
    "        list1.remove(x)\n",
    "print(list1)"
   ]
  },
  {
   "cell_type": "markdown",
   "id": "4853a0c4",
   "metadata": {},
   "source": [
    "## Tools"
   ]
  },
  {
   "cell_type": "markdown",
   "id": "3999228c",
   "metadata": {},
   "source": [
    "#### 1. Finding Negative Index\n",
    "\n",
    "negative index = positive index - length of list"
   ]
  },
  {
   "cell_type": "code",
   "execution_count": 36,
   "id": "f6b1c25b",
   "metadata": {},
   "outputs": [
    {
     "name": "stdout",
     "output_type": "stream",
     "text": [
      "3 -4\n"
     ]
    }
   ],
   "source": [
    "list1 = ['amir','bilal','hamid','rehman','asad','fayyaz','khan']\n",
    "#          0       1       2       3       4       5        6    \n",
    "#         -7      -6      -5      -4      -3      -2       -1\n",
    "\n",
    "posIndex = list1.index('rehman')    # a\n",
    "listLen = len(list1)                # b\n",
    "\n",
    "negIndex = posIndex - listLen       # a - b\n",
    "\n",
    "print (posIndex, negIndex)"
   ]
  }
 ],
 "metadata": {
  "kernelspec": {
   "display_name": "Python 3 (ipykernel)",
   "language": "python",
   "name": "python3"
  },
  "language_info": {
   "codemirror_mode": {
    "name": "ipython",
    "version": 3
   },
   "file_extension": ".py",
   "mimetype": "text/x-python",
   "name": "python",
   "nbconvert_exporter": "python",
   "pygments_lexer": "ipython3",
   "version": "3.9.12"
  }
 },
 "nbformat": 4,
 "nbformat_minor": 5
}
