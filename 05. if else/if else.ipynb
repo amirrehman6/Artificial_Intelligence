{
 "cells": [
  {
   "cell_type": "markdown",
   "id": "324d1ee9",
   "metadata": {},
   "source": [
    "# If Elif Else Statement"
   ]
  },
  {
   "cell_type": "markdown",
   "id": "66fd17f9",
   "metadata": {},
   "source": [
    "## Table of Contents"
   ]
  },
  {
   "cell_type": "markdown",
   "id": "7e4ee6e3",
   "metadata": {},
   "source": [
    "1. Definition\n",
    "2. Syntax\n",
    "3. Conditions\n",
    "4. else vs elif\n",
    "5. Nested if"
   ]
  },
  {
   "cell_type": "markdown",
   "id": "1a8c0758",
   "metadata": {},
   "source": [
    "### 1. Definition"
   ]
  },
  {
   "cell_type": "markdown",
   "id": "e911657e",
   "metadata": {},
   "source": [
    "1. condition testing based code execution\n",
    "2. if + condtion + : + indent + code\n",
    "3. condition takes Comparison and Logical operators\n",
    "4. if   -vs-   elif   -vs-   else"
   ]
  },
  {
   "cell_type": "markdown",
   "id": "7699e751",
   "metadata": {},
   "source": [
    "## 2. Syntax"
   ]
  },
  {
   "cell_type": "code",
   "execution_count": 9,
   "id": "e97bffe1",
   "metadata": {},
   "outputs": [
    {
     "name": "stdout",
     "output_type": "stream",
     "text": [
      "condition is correct\n"
     ]
    }
   ],
   "source": [
    "if 2 + 2 == 4:                      # if     condition       :\n",
    "    print('condition is correct')   # code if condition is true (must be indented)"
   ]
  },
  {
   "cell_type": "markdown",
   "id": "2179460e",
   "metadata": {},
   "source": [
    "## 3. Conditions"
   ]
  },
  {
   "cell_type": "markdown",
   "id": "92bb0738",
   "metadata": {},
   "source": [
    "### 1. Comparison Operators"
   ]
  },
  {
   "cell_type": "markdown",
   "id": "4ac661f5",
   "metadata": {},
   "source": [
    "1. ==\n",
    "2. !=\n",
    "3. \\>\n",
    "4. <\n",
    "5. \\>=\n",
    "6. <="
   ]
  },
  {
   "cell_type": "code",
   "execution_count": 12,
   "id": "96d424f9",
   "metadata": {},
   "outputs": [
    {
     "name": "stdout",
     "output_type": "stream",
     "text": [
      "correct ==\n",
      "correct !=\n",
      "correct >\n",
      "correct >=\n",
      "correct <\n",
      "correct <=\n"
     ]
    }
   ],
   "source": [
    "if 2 + 2 == 4:\n",
    "    print('correct ==')\n",
    "    \n",
    "if 2 + 2 != 5:\n",
    "    print('correct !=')\n",
    "    \n",
    "if 2 + 2 > 3:\n",
    "    print('correct >')\n",
    "\n",
    "if 2 + 2 >= 4:\n",
    "    print('correct >=')\n",
    "\n",
    "if 2 + 2 < 5:\n",
    "    print('correct <')\n",
    "\n",
    "if 2 + 2 <= 4:\n",
    "    print('correct <=')\n"
   ]
  },
  {
   "cell_type": "markdown",
   "id": "bd825d0d",
   "metadata": {},
   "source": [
    "### 2. Logical Operators"
   ]
  },
  {
   "cell_type": "markdown",
   "id": "bd922678",
   "metadata": {},
   "source": [
    "1. and\n",
    "2. or\n",
    "3. () for precedence"
   ]
  },
  {
   "cell_type": "code",
   "execution_count": 15,
   "id": "422fa688",
   "metadata": {},
   "outputs": [
    {
     "name": "stdout",
     "output_type": "stream",
     "text": [
      "conditions correct\n"
     ]
    }
   ],
   "source": [
    "if 2 != 5 and (2 + 3 == 5 or 4 - 1 != 3):\n",
    "    print('conditions correct')"
   ]
  },
  {
   "cell_type": "markdown",
   "id": "266e2413",
   "metadata": {},
   "source": [
    "### 4. else & elif"
   ]
  },
  {
   "cell_type": "code",
   "execution_count": 16,
   "id": "7c54eed6",
   "metadata": {},
   "outputs": [
    {
     "name": "stdout",
     "output_type": "stream",
     "text": [
      "Enter 1st number: 5\n",
      "Enter 2nd number: 4\n",
      "5 is greater than 4\n"
     ]
    }
   ],
   "source": [
    "x,y = 0,0\n",
    "x = input('Enter 1st number: ')\n",
    "y = input('Enter 2nd number: ')\n",
    "\n",
    "if x>y:\n",
    "    print(x , \"is greater than\" , y)\n",
    "elif x==y:\n",
    "    print(x , \"is equal to\" , y)\n",
    "else:\n",
    "    print(x , \"is less than\" , y)"
   ]
  },
  {
   "cell_type": "markdown",
   "id": "99506f87",
   "metadata": {},
   "source": [
    "### 5. Nested if"
   ]
  },
  {
   "cell_type": "code",
   "execution_count": 1,
   "id": "d0899e35",
   "metadata": {},
   "outputs": [
    {
     "name": "stdout",
     "output_type": "stream",
     "text": [
      "both conditions met\n"
     ]
    }
   ],
   "source": [
    "if 4 == 4:\n",
    "    if 3 != 4:\n",
    "        print('both conditions met')"
   ]
  }
 ],
 "metadata": {
  "kernelspec": {
   "display_name": "Python 3 (ipykernel)",
   "language": "python",
   "name": "python3"
  },
  "language_info": {
   "codemirror_mode": {
    "name": "ipython",
    "version": 3
   },
   "file_extension": ".py",
   "mimetype": "text/x-python",
   "name": "python",
   "nbconvert_exporter": "python",
   "pygments_lexer": "ipython3",
   "version": "3.9.12"
  }
 },
 "nbformat": 4,
 "nbformat_minor": 5
}
