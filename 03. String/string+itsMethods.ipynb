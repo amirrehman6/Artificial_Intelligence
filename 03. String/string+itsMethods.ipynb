{
 "cells": [
  {
   "cell_type": "markdown",
   "id": "c6a798ef",
   "metadata": {},
   "source": [
    "# STRING"
   ]
  },
  {
   "cell_type": "markdown",
   "id": "cb7a01bf",
   "metadata": {},
   "source": [
    "### Table of Contents\n",
    "\n",
    "    1. Definition\n",
    "    2. Syntax - (How Strings are created).\n",
    "    3. Methods\n",
    "    4. Tools & Techniques"
   ]
  },
  {
   "cell_type": "markdown",
   "id": "dcf7458c",
   "metadata": {},
   "source": [
    "## 1. Definition"
   ]
  },
  {
   "cell_type": "markdown",
   "id": "3023a4f6",
   "metadata": {},
   "source": [
    "1. Series of characters enclosed in quotes\n",
    "2. String is a datatype\n",
    "3. String can be maniupated using pre-defined functions/methods\n"
   ]
  },
  {
   "cell_type": "markdown",
   "id": "c48f9e6d",
   "metadata": {},
   "source": [
    "### Strings are Arrays"
   ]
  },
  {
   "cell_type": "code",
   "execution_count": 1,
   "id": "5a4e9120",
   "metadata": {
    "scrolled": true
   },
   "outputs": [
    {
     "name": "stdout",
     "output_type": "stream",
     "text": [
      "a\n",
      "m\n",
      "i\n",
      "r\n"
     ]
    }
   ],
   "source": [
    "for x in 'amir':\n",
    "    print(x)"
   ]
  },
  {
   "cell_type": "markdown",
   "id": "2027da6a",
   "metadata": {},
   "source": [
    "## 2. Syntax"
   ]
  },
  {
   "cell_type": "markdown",
   "id": "e64517fe",
   "metadata": {},
   "source": [
    "### How Strings can be entered - 4x"
   ]
  },
  {
   "cell_type": "code",
   "execution_count": 2,
   "id": "5af14c07",
   "metadata": {},
   "outputs": [
    {
     "name": "stdout",
     "output_type": "stream",
     "text": [
      "Amir\n"
     ]
    }
   ],
   "source": [
    "# 1. With double qoutes\n",
    "\n",
    "name = \"Amir\"\n",
    "print(name)"
   ]
  },
  {
   "cell_type": "code",
   "execution_count": 2,
   "id": "2efb298a",
   "metadata": {},
   "outputs": [
    {
     "name": "stdout",
     "output_type": "stream",
     "text": [
      "Amir\n"
     ]
    }
   ],
   "source": [
    "# 2. With single quote\n",
    "\n",
    "name = 'Amir'\n",
    "print(name)"
   ]
  },
  {
   "cell_type": "code",
   "execution_count": 7,
   "id": "7beafd61",
   "metadata": {},
   "outputs": [
    {
     "name": "stdout",
     "output_type": "stream",
     "text": [
      "Syed Amir Rehman\n",
      "Batch 37 - Online\n",
      "PIAIC\n",
      "Islamabad\n"
     ]
    }
   ],
   "source": [
    "# 3. With 3 double quotes\n",
    "\n",
    "name = \"\"\"Syed Amir Rehman\n",
    "Batch 37 - Online\n",
    "PIAIC\n",
    "Islamabad\"\"\"\n",
    "print(name)"
   ]
  },
  {
   "cell_type": "code",
   "execution_count": 8,
   "id": "8de47862",
   "metadata": {},
   "outputs": [
    {
     "name": "stdout",
     "output_type": "stream",
     "text": [
      "Syed Amir Rehman\n",
      "Batch 37 - Online\n",
      "PIAIC\n",
      "Islamabad\n"
     ]
    }
   ],
   "source": [
    "# 4. With 3 single quotes\n",
    "\n",
    "name = '''Syed Amir Rehman\n",
    "Batch 37 - Online\n",
    "PIAIC\n",
    "Islamabad'''\n",
    "print(name)"
   ]
  },
  {
   "cell_type": "markdown",
   "id": "f48567a8",
   "metadata": {},
   "source": [
    "### String Slicing"
   ]
  },
  {
   "cell_type": "markdown",
   "id": "f2c09260",
   "metadata": {},
   "source": [
    "1. Slice (access characters) using positive or negative index\n",
    "2. var_name[start index : last index : step]\n",
    "3. first index is included\n",
    "4. last index is excluded\n",
    "5. steps can be negative to slice in reverse order (from right to left)"
   ]
  },
  {
   "cell_type": "markdown",
   "id": "d92ebc2e",
   "metadata": {},
   "source": [
    "#### 1. Indexing (Positive)"
   ]
  },
  {
   "cell_type": "code",
   "execution_count": 25,
   "id": "270614b5",
   "metadata": {},
   "outputs": [
    {
     "name": "stdout",
     "output_type": "stream",
     "text": [
      "A\n",
      "mi\n",
      "Ami\n",
      "ir\n",
      "mr\n"
     ]
    }
   ],
   "source": [
    "my_name = 'Amir'\n",
    "# index    0123\n",
    "\n",
    "print(my_name[0])            # char at 0 index\n",
    "print(my_name[1:3])          # char start from 1st and end with (3-1) index\n",
    "print(my_name[:3])           # char begin from start and end with (3-1) index\n",
    "print(my_name[2:])           # char begin with 2nd index till end\n",
    "print(my_name[1::2])         # char being with 1st index till end with two steps"
   ]
  },
  {
   "cell_type": "markdown",
   "id": "b44e3123",
   "metadata": {},
   "source": [
    "#### 2. Negative Indexing"
   ]
  },
  {
   "cell_type": "code",
   "execution_count": 26,
   "id": "c21198e1",
   "metadata": {},
   "outputs": [
    {
     "name": "stdout",
     "output_type": "stream",
     "text": [
      "R\n",
      "ma\n",
      "Reh\n",
      "hman\n",
      "amh\n"
     ]
    }
   ],
   "source": [
    "my_name = 'Rehman'\n",
    "# index    -6 -5 -4 -3 -2 -1\n",
    "\n",
    "print(my_name[-6])           # char at -6 index\n",
    "print(my_name[-3:-1])        # char being with -3 index till -2 index\n",
    "print(my_name[:-3])          # char from start till -4 index\n",
    "print(my_name[-4:])          # char start from -4 till end\n",
    "print(my_name[-2:-5:-1])     # in reverse order - start from -2 to -4"
   ]
  },
  {
   "cell_type": "markdown",
   "id": "e5f5d410",
   "metadata": {},
   "source": [
    "## 4. Methods"
   ]
  },
  {
   "cell_type": "code",
   "execution_count": null,
   "id": "bf4d94e6",
   "metadata": {},
   "outputs": [],
   "source": []
  },
  {
   "cell_type": "markdown",
   "id": "9a9f0eac",
   "metadata": {},
   "source": [
    "#### 1. Change Case"
   ]
  },
  {
   "cell_type": "code",
   "execution_count": 4,
   "id": "ea7786ba",
   "metadata": {},
   "outputs": [
    {
     "name": "stdout",
     "output_type": "stream",
     "text": [
      "amir rehman\n",
      "AMIR REHMAN\n",
      "Amir Rehman\n",
      "aMIR rEHMAN\n",
      "Amir rehman\n",
      "amir rehman\n"
     ]
    }
   ],
   "source": [
    "x = 'Amir Rehman'\n",
    "\n",
    "x = x.lower()       # 1. To lower case\n",
    "print(x)\n",
    "\n",
    "x = x.upper()       # 2. To upper case\n",
    "print(x)\n",
    "\n",
    "x = x.title()       # 3. To title case\n",
    "print(x)\n",
    "\n",
    "x = x.swapcase()    # 4. Upper to lower case and vice versa\n",
    "print(x)\n",
    "\n",
    "x = x.capitalize()  # 5. Upper case to first character\n",
    "print(x)\n",
    "\n",
    "x = x.casefold()    # 6. to lower case\n",
    "print(x)\n",
    "\n"
   ]
  },
  {
   "cell_type": "markdown",
   "id": "3d9d9f69",
   "metadata": {},
   "source": [
    "#### 2. Modifying String"
   ]
  },
  {
   "cell_type": "code",
   "execution_count": 44,
   "id": "771f7217",
   "metadata": {},
   "outputs": [],
   "source": [
    "# Strip()          ---> remove whitespaces at start and end of string\n",
    "# Replace()        ---> replace char in string\n",
    "# Split()          ---> split char\n",
    "# Splitlines()     ---> split char"
   ]
  },
  {
   "cell_type": "code",
   "execution_count": 45,
   "id": "93299770",
   "metadata": {},
   "outputs": [],
   "source": [
    "# + operator to concatenate strings\n",
    "# error on concatenating string and numbers together       ----> use format() method"
   ]
  },
  {
   "cell_type": "code",
   "execution_count": 46,
   "id": "a876bf03",
   "metadata": {},
   "outputs": [
    {
     "name": "stdout",
     "output_type": "stream",
     "text": [
      "my age is 20 years and 40 days\n"
     ]
    }
   ],
   "source": [
    "# format()\n",
    "\n",
    "\n",
    "age = 20\n",
    "age2 = 40\n",
    "text = 'my age is {} years and {} days'\n",
    "print(text.format(age,age2))\n"
   ]
  },
  {
   "cell_type": "markdown",
   "id": "59cc165b",
   "metadata": {},
   "source": [
    "#### Characteristics / Properties"
   ]
  },
  {
   "cell_type": "code",
   "execution_count": null,
   "id": "f09a72a7",
   "metadata": {},
   "outputs": [],
   "source": []
  },
  {
   "cell_type": "code",
   "execution_count": null,
   "id": "ac7e5bf3",
   "metadata": {},
   "outputs": [],
   "source": []
  },
  {
   "cell_type": "code",
   "execution_count": null,
   "id": "f366cbbb",
   "metadata": {},
   "outputs": [],
   "source": []
  },
  {
   "cell_type": "code",
   "execution_count": null,
   "id": "436d1b53",
   "metadata": {},
   "outputs": [],
   "source": []
  },
  {
   "cell_type": "markdown",
   "id": "22af92e0",
   "metadata": {},
   "source": [
    "#### 3. Escape Characters\n",
    "Used to insert characters that are illegal in a string"
   ]
  },
  {
   "cell_type": "code",
   "execution_count": 1,
   "id": "7edb6533",
   "metadata": {},
   "outputs": [],
   "source": [
    "# \\\\   \\'   \\\"   \\n    \\r    \\t    \\b    \\f     \\ooo   \\xhh"
   ]
  },
  {
   "cell_type": "code",
   "execution_count": null,
   "id": "e97218bf",
   "metadata": {},
   "outputs": [],
   "source": []
  },
  {
   "cell_type": "code",
   "execution_count": null,
   "id": "b065d8a6",
   "metadata": {},
   "outputs": [],
   "source": []
  },
  {
   "cell_type": "markdown",
   "id": "db8e17da",
   "metadata": {},
   "source": [
    "## Tools"
   ]
  },
  {
   "cell_type": "markdown",
   "id": "ce8529bd",
   "metadata": {},
   "source": [
    "#### 1. Finding length of String"
   ]
  },
  {
   "cell_type": "code",
   "execution_count": 3,
   "id": "d11709a6",
   "metadata": {},
   "outputs": [
    {
     "name": "stdout",
     "output_type": "stream",
     "text": [
      "11\n"
     ]
    }
   ],
   "source": [
    "x = 'amir rehman'\n",
    "print(len(x))"
   ]
  },
  {
   "cell_type": "markdown",
   "id": "1354bcd6",
   "metadata": {},
   "source": [
    "#### 2. Checking text in String"
   ]
  },
  {
   "cell_type": "code",
   "execution_count": 4,
   "id": "ce7255de",
   "metadata": {},
   "outputs": [
    {
     "name": "stdout",
     "output_type": "stream",
     "text": [
      "True\n"
     ]
    }
   ],
   "source": [
    "x = 'my name is amir rehman'\n",
    "print ('amir' in x)"
   ]
  },
  {
   "cell_type": "code",
   "execution_count": 5,
   "id": "a8652cae",
   "metadata": {},
   "outputs": [
    {
     "name": "stdout",
     "output_type": "stream",
     "text": [
      "yes it contains 'amir'\n"
     ]
    }
   ],
   "source": [
    "x = 'my name is amir'\n",
    "if 'amir' in x:\n",
    "    print('yes it contains \\'amir\\'')"
   ]
  },
  {
   "cell_type": "code",
   "execution_count": null,
   "id": "e10b69d2",
   "metadata": {},
   "outputs": [],
   "source": [
    "name = ['a','b','c','d','e']\n",
    "if 'c' in name:\n",
    "    print(name.index('c'))"
   ]
  },
  {
   "cell_type": "markdown",
   "id": "84cac477",
   "metadata": {},
   "source": [
    "#### 3. Checking text if not in String"
   ]
  },
  {
   "cell_type": "code",
   "execution_count": 6,
   "id": "d5a54ede",
   "metadata": {},
   "outputs": [
    {
     "name": "stdout",
     "output_type": "stream",
     "text": [
      "False\n"
     ]
    }
   ],
   "source": [
    "x = 'my name is amir rehman'\n",
    "print ('amir' not in x)"
   ]
  },
  {
   "cell_type": "code",
   "execution_count": 7,
   "id": "4961175a",
   "metadata": {},
   "outputs": [
    {
     "name": "stdout",
     "output_type": "stream",
     "text": [
      "yes is does not contain asad\n"
     ]
    }
   ],
   "source": [
    "x = 'my name is amir rehman'\n",
    "if 'asad' not in x:\n",
    "    print('yes is does not contain asad')"
   ]
  },
  {
   "cell_type": "code",
   "execution_count": 8,
   "id": "9b5498b2",
   "metadata": {},
   "outputs": [],
   "source": [
    "name = ['1','2','3','4','5']\n",
    "if '8' in name:\n",
    "    print(name.index('8'))"
   ]
  }
 ],
 "metadata": {
  "kernelspec": {
   "display_name": "Python 3 (ipykernel)",
   "language": "python",
   "name": "python3"
  },
  "language_info": {
   "codemirror_mode": {
    "name": "ipython",
    "version": 3
   },
   "file_extension": ".py",
   "mimetype": "text/x-python",
   "name": "python",
   "nbconvert_exporter": "python",
   "pygments_lexer": "ipython3",
   "version": "3.9.12"
  }
 },
 "nbformat": 4,
 "nbformat_minor": 5
}
