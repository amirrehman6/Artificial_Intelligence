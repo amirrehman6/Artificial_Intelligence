{
 "cells": [
  {
   "cell_type": "markdown",
   "id": "4975da9a",
   "metadata": {},
   "source": [
    "# List"
   ]
  },
  {
   "cell_type": "markdown",
   "id": "4bdc33c4",
   "metadata": {},
   "source": [
    "## Table of Contents\n",
    "1. Definition\n",
    "2. Syntax (and properties)\n",
    "3. List of Methods (11x + 1x)\n",
    "4. Slicing"
   ]
  },
  {
   "cell_type": "markdown",
   "id": "f5258dbe",
   "metadata": {},
   "source": [
    "### Definition"
   ]
  },
  {
   "cell_type": "markdown",
   "id": "898254ad",
   "metadata": {},
   "source": [
    "1. list is a Data type\n",
    "2. list is an array\n",
    "3. list can hold multiple data types\n",
    "4. list is mutable (i.e. values can be added, modified and deleted)\n",
    "5. index:\n",
    "        starts from 0 from left side\n",
    "        starts from -1 from right side"
   ]
  },
  {
   "cell_type": "markdown",
   "id": "d5ea7486",
   "metadata": {},
   "source": [
    "### Syntax:"
   ]
  },
  {
   "cell_type": "code",
   "execution_count": 44,
   "id": "33cf258b",
   "metadata": {},
   "outputs": [],
   "source": [
    "names = ['amir','bilal','asad','imran']"
   ]
  },
  {
   "cell_type": "markdown",
   "id": "6dabc855",
   "metadata": {},
   "source": [
    "##### Parameters of lists are:"
   ]
  },
  {
   "cell_type": "code",
   "execution_count": 47,
   "id": "c1c3329c",
   "metadata": {},
   "outputs": [
    {
     "name": "stdout",
     "output_type": "stream",
     "text": [
      "<class 'list'>\n",
      "2310359428032\n",
      "4\n",
      "5\n"
     ]
    }
   ],
   "source": [
    "print(type(names))    # datatype of variable\n",
    "print(id(names))      # memory address of variable\n",
    "print(len(names))     # count of members in list\n",
    "print(len(names[1]))  # count of characters in the member on specified index"
   ]
  },
  {
   "cell_type": "markdown",
   "id": "2ac5416b",
   "metadata": {},
   "source": [
    "### list Methods\n",
    "\n",
    "    1. ADDING ELEMENTS\n",
    "        1. append(value)\n",
    "        2. insert(index, value)\n",
    "        3. extend([value1, value2, value3])\n",
    "    2. REMOVING ELEMENTS\n",
    "        1. clear()\n",
    "        2. remove(value)\n",
    "        3. pop(index)\n",
    "        4. del            # this is a keyword\n",
    "    3. SORTING ELEMENTS\n",
    "        1. sort()\n",
    "        2. reverse()\n",
    "    4. OTHERS\n",
    "        1. index()\n",
    "        2. copy()\n",
    "        3. count()\n",
    "        \n",
    "        "
   ]
  },
  {
   "cell_type": "markdown",
   "id": "d3f665eb",
   "metadata": {},
   "source": [
    "#### ADDING ELEMENTS"
   ]
  },
  {
   "cell_type": "code",
   "execution_count": 52,
   "id": "25257806",
   "metadata": {},
   "outputs": [
    {
     "data": {
      "text/plain": [
       "['amir', 'bilal', 'asad', 'imran', 'Asif']"
      ]
     },
     "execution_count": 52,
     "metadata": {},
     "output_type": "execute_result"
    }
   ],
   "source": [
    "# append()\n",
    "\n",
    "###################################\n",
    "# add value at the end\n",
    "# syntax:\n",
    "#        listName.append(value)\n",
    "###################################\n",
    "\n",
    "names.append('Asif')\n",
    "names"
   ]
  },
  {
   "cell_type": "code",
   "execution_count": 53,
   "id": "6ed19972",
   "metadata": {},
   "outputs": [
    {
     "data": {
      "text/plain": [
       "['amir', 'wasif', 'bilal', 'asad', 'imran', 'Asif']"
      ]
     },
     "execution_count": 53,
     "metadata": {},
     "output_type": "execute_result"
    }
   ],
   "source": [
    "# insert()\n",
    "\n",
    "#####################################\n",
    "# add value at specific index no.\n",
    "# syntax:\n",
    "#        listName.insert(index,value)\n",
    "#####################################\n",
    "\n",
    "names.insert(1,'wasif')\n",
    "names"
   ]
  },
  {
   "cell_type": "code",
   "execution_count": 54,
   "id": "2e5da4db",
   "metadata": {},
   "outputs": [
    {
     "data": {
      "text/plain": [
       "['amir', 'wasif', 'bilal', 'asad', 'imran', 'Asif', 'fayyaz', 'ali', 'jamal']"
      ]
     },
     "execution_count": 54,
     "metadata": {},
     "output_type": "execute_result"
    }
   ],
   "source": [
    "# extend()\n",
    "\n",
    "#######################################################\n",
    "# add more than 1 value at the end of list\n",
    "# syntax:\n",
    "#        listName.extend(['value1','value2','value3'])\n",
    "#######################################################\n",
    "\n",
    "names.extend(['fayyaz','ali','jamal'])\n",
    "names"
   ]
  },
  {
   "cell_type": "markdown",
   "id": "cb85af36",
   "metadata": {},
   "source": [
    "#### DELETING ELEMENTS"
   ]
  },
  {
   "cell_type": "code",
   "execution_count": 55,
   "id": "067ff2d4",
   "metadata": {},
   "outputs": [
    {
     "data": {
      "text/plain": [
       "[]"
      ]
     },
     "execution_count": 55,
     "metadata": {},
     "output_type": "execute_result"
    }
   ],
   "source": [
    "# clear()\n",
    "\n",
    "############################################\n",
    "# delete all elements from the list\n",
    "# syntax:\n",
    "#        listName.clear()\n",
    "############################################\n",
    "\n",
    "names.clear()\n",
    "names"
   ]
  },
  {
   "cell_type": "code",
   "execution_count": 57,
   "id": "8680a320",
   "metadata": {},
   "outputs": [
    {
     "data": {
      "text/plain": [
       "['amir', 'wasif', 'bilal', 'asad', 'imran', 'Asif', 'fayyaz', 'ali', 'jamal']"
      ]
     },
     "execution_count": 57,
     "metadata": {},
     "output_type": "execute_result"
    }
   ],
   "source": [
    "# again adding the elements for further usage\n",
    "\n",
    "names = ['amir', 'wasif', 'bilal', 'asad', 'imran', 'Asif', 'fayyaz', 'ali', 'jamal']\n",
    "names"
   ]
  },
  {
   "cell_type": "code",
   "execution_count": 58,
   "id": "70e54b61",
   "metadata": {},
   "outputs": [
    {
     "data": {
      "text/plain": [
       "['amir', 'wasif', 'bilal', 'imran', 'Asif', 'fayyaz', 'ali', 'jamal']"
      ]
     },
     "execution_count": 58,
     "metadata": {},
     "output_type": "execute_result"
    }
   ],
   "source": [
    "# remove()\n",
    "\n",
    "################################################\n",
    "# delete value from list by specifying the value\n",
    "# syntax:\n",
    "#        listName.remove('value')\n",
    "################################################\n",
    "\n",
    "names.remove('asad')\n",
    "names"
   ]
  },
  {
   "cell_type": "code",
   "execution_count": 64,
   "id": "6acf9fc2",
   "metadata": {},
   "outputs": [
    {
     "data": {
      "text/plain": [
       "['amir', 'wasif', 'bilal', 'imran', 'Asif', 'fayyaz', 'ali']"
      ]
     },
     "execution_count": 64,
     "metadata": {},
     "output_type": "execute_result"
    }
   ],
   "source": [
    "# pop()\n",
    "\n",
    "################################################################\n",
    "# delete value from the end of list (or from index if specified)\n",
    "# syntax\n",
    "#       listName.pop()\n",
    "#       listName.pop(index)\n",
    "################################################################\n",
    "\n",
    "poppedValue = names.pop()\n",
    "names"
   ]
  },
  {
   "cell_type": "code",
   "execution_count": 65,
   "id": "bddb32fc",
   "metadata": {},
   "outputs": [
    {
     "data": {
      "text/plain": [
       "['amir', 'bilal', 'imran', 'Asif', 'fayyaz', 'ali']"
      ]
     },
     "execution_count": 65,
     "metadata": {},
     "output_type": "execute_result"
    }
   ],
   "source": [
    "# del\n",
    "\n",
    "################################################\n",
    "# delete value from list by specifying the index\n",
    "# syntax:\n",
    "#        del listName[index]\n",
    "################################################\n",
    "\n",
    "del names[1]\n",
    "names"
   ]
  },
  {
   "cell_type": "markdown",
   "id": "727ba06c",
   "metadata": {},
   "source": [
    "#### SORTING ELEMENTS"
   ]
  },
  {
   "cell_type": "code",
   "execution_count": 66,
   "id": "92098bc2",
   "metadata": {},
   "outputs": [
    {
     "data": {
      "text/plain": [
       "['Asif', 'ali', 'amir', 'bilal', 'fayyaz', 'imran']"
      ]
     },
     "execution_count": 66,
     "metadata": {},
     "output_type": "execute_result"
    }
   ],
   "source": [
    "# sort\n",
    "\n",
    "##################################################\n",
    "# sort values in asending or decending order\n",
    "# syntax:\n",
    "#        listName.sort()               //ascending\n",
    "#        listName.sort(reverse=True)   //decending\n",
    "##################################################\n",
    "\n",
    "names.sort()\n",
    "names"
   ]
  },
  {
   "cell_type": "code",
   "execution_count": 67,
   "id": "bc83cb2d",
   "metadata": {},
   "outputs": [
    {
     "data": {
      "text/plain": [
       "['imran', 'fayyaz', 'bilal', 'amir', 'ali', 'Asif']"
      ]
     },
     "execution_count": 67,
     "metadata": {},
     "output_type": "execute_result"
    }
   ],
   "source": [
    "names.sort(reverse=True)\n",
    "names"
   ]
  },
  {
   "cell_type": "code",
   "execution_count": 68,
   "id": "dc5f8408",
   "metadata": {},
   "outputs": [
    {
     "data": {
      "text/plain": [
       "['Asif', 'ali', 'amir', 'bilal', 'fayyaz', 'imran']"
      ]
     },
     "execution_count": 68,
     "metadata": {},
     "output_type": "execute_result"
    }
   ],
   "source": [
    "# reverse()\n",
    "\n",
    "#########################################\n",
    "# reverse the order of values in list\n",
    "# syntax:\n",
    "#        listName.reverse()\n",
    "#########################################\n",
    "\n",
    "names.reverse()\n",
    "names"
   ]
  },
  {
   "cell_type": "markdown",
   "id": "8cbfa213",
   "metadata": {},
   "source": [
    "#### OTHER METHODS"
   ]
  },
  {
   "cell_type": "code",
   "execution_count": 73,
   "id": "f6d11988",
   "metadata": {},
   "outputs": [
    {
     "name": "stdout",
     "output_type": "stream",
     "text": [
      "2\n",
      "3\n"
     ]
    }
   ],
   "source": [
    "# index()\n",
    "\n",
    "#########################################\n",
    "# returns the index of value in the list\n",
    "# syntax:\n",
    "#        listName.index(value)\n",
    "#########################################\n",
    "\n",
    "print(names.index('amir'))\n",
    "print(names[2].index('r'))"
   ]
  },
  {
   "cell_type": "code",
   "execution_count": 75,
   "id": "9b901b47",
   "metadata": {},
   "outputs": [
    {
     "data": {
      "text/plain": [
       "['Asif', 'ali', 'amir', 'bilal', 'fayyaz', 'imran']"
      ]
     },
     "execution_count": 75,
     "metadata": {},
     "output_type": "execute_result"
    }
   ],
   "source": [
    "# copy()\n",
    "\n",
    "#################################################################\n",
    "# create the exact copy of list (not referenced to original list)\n",
    "# syntax:\n",
    "#        newListName = listName.copy()\n",
    "#################################################################\n",
    "\n",
    "names2 = names.copy()\n",
    "names[0] = 'wasif'\n",
    "names2"
   ]
  },
  {
   "cell_type": "code",
   "execution_count": 79,
   "id": "af7bbcc9",
   "metadata": {},
   "outputs": [
    {
     "name": "stdout",
     "output_type": "stream",
     "text": [
      "6\n",
      "1\n"
     ]
    }
   ],
   "source": [
    "# count()\n",
    "\n",
    "#########################################################\n",
    "# count the no. of members of specified value in the list\n",
    "# syntax:\n",
    "#        listName.count()\n",
    "#########################################################\n",
    "# hint: use len() function for entire count of members in the list\n",
    "\n",
    "print(len(names))\n",
    "print(names.count('amir'))"
   ]
  }
 ],
 "metadata": {
  "kernelspec": {
   "display_name": "Python 3 (ipykernel)",
   "language": "python",
   "name": "python3"
  },
  "language_info": {
   "codemirror_mode": {
    "name": "ipython",
    "version": 3
   },
   "file_extension": ".py",
   "mimetype": "text/x-python",
   "name": "python",
   "nbconvert_exporter": "python",
   "pygments_lexer": "ipython3",
   "version": "3.9.12"
  }
 },
 "nbformat": 4,
 "nbformat_minor": 5
}
