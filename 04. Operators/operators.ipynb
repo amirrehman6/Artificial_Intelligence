{
 "cells": [
  {
   "cell_type": "markdown",
   "id": "b8ab06d0",
   "metadata": {},
   "source": [
    "# Operators"
   ]
  },
  {
   "cell_type": "markdown",
   "id": "9f0b8a66",
   "metadata": {},
   "source": [
    "##### 7x Types of Operators\n",
    "\n",
    "1. Arthimatic Operators\n",
    "2. Assignment Operators\n",
    "3. Comparison Operators\n",
    "4. Logical Operators\n",
    "5. Identity Operators\n",
    "6. Membership Operators\n",
    "7. Bitwise Operators"
   ]
  },
  {
   "cell_type": "markdown",
   "id": "f25a9162",
   "metadata": {},
   "source": [
    "## 1. Arithmetic Operators"
   ]
  },
  {
   "cell_type": "code",
   "execution_count": 7,
   "id": "0e4eebe8",
   "metadata": {},
   "outputs": [],
   "source": [
    "#    7x Arithmetic Operators\n",
    "##########################################################################    \n",
    "#    + addition            - subtraction             * multiplication    #\n",
    "#    / float division     // int division (floor)                        #\n",
    "#    % modulus            ** exponentional                               #\n",
    "##########################################################################\n"
   ]
  },
  {
   "cell_type": "markdown",
   "id": "6f670b20",
   "metadata": {},
   "source": [
    "Important:\n",
    "\n",
    "* Math operators does not work on string\n",
    "\n",
    "* \"+\" operator CONCATENATES string\n",
    "\n",
    "* error while concatenate string and numbers"
   ]
  },
  {
   "cell_type": "code",
   "execution_count": 2,
   "id": "54841aad",
   "metadata": {},
   "outputs": [
    {
     "name": "stdout",
     "output_type": "stream",
     "text": [
      "25\n"
     ]
    }
   ],
   "source": [
    "var1 = 10\n",
    "var2 = 15\n",
    "var3 = var1 + var2  # addition\n",
    "print(var3)"
   ]
  },
  {
   "cell_type": "code",
   "execution_count": 3,
   "id": "1b7c9f9e",
   "metadata": {},
   "outputs": [
    {
     "name": "stdout",
     "output_type": "stream",
     "text": [
      "5\n"
     ]
    }
   ],
   "source": [
    "var1 = 15\n",
    "var2 = 10\n",
    "var3 = var1 - var2  # subctraction\n",
    "print(var3)"
   ]
  },
  {
   "cell_type": "code",
   "execution_count": 4,
   "id": "51bc334f",
   "metadata": {},
   "outputs": [
    {
     "name": "stdout",
     "output_type": "stream",
     "text": [
      "150\n"
     ]
    }
   ],
   "source": [
    "var1 = 15\n",
    "var2 = 10\n",
    "var3 = var1 * var2  # multiplication\n",
    "print(var3)"
   ]
  },
  {
   "cell_type": "code",
   "execution_count": 5,
   "id": "a48cfa63",
   "metadata": {},
   "outputs": [
    {
     "name": "stdout",
     "output_type": "stream",
     "text": [
      "1.5\n"
     ]
    }
   ],
   "source": [
    "var1 = 15\n",
    "var2 = 10\n",
    "var3 = var1 / var2  # float division (default) \n",
    "print(var3)"
   ]
  },
  {
   "cell_type": "code",
   "execution_count": 10,
   "id": "a6c5cbc3",
   "metadata": {},
   "outputs": [
    {
     "name": "stdout",
     "output_type": "stream",
     "text": [
      "1\n"
     ]
    }
   ],
   "source": [
    "var1 = 18\n",
    "var2 = 10\n",
    "var3 = var1 // var2  # integer division (floar rounding)\n",
    "print(var3)"
   ]
  },
  {
   "cell_type": "code",
   "execution_count": 8,
   "id": "5f54941d",
   "metadata": {},
   "outputs": [
    {
     "name": "stdout",
     "output_type": "stream",
     "text": [
      "27\n"
     ]
    }
   ],
   "source": [
    "var1 = 3\n",
    "var2 = 3\n",
    "var3 = var1 ** var2  # exponential\n",
    "print(var3)"
   ]
  },
  {
   "cell_type": "code",
   "execution_count": 2,
   "id": "7d21107d",
   "metadata": {},
   "outputs": [
    {
     "name": "stdout",
     "output_type": "stream",
     "text": [
      "1\n"
     ]
    }
   ],
   "source": [
    "var1 = 5\n",
    "var2 = 2\n",
    "var3 = var1 % var2  # Modulus (remainder)\n",
    "print(var3)"
   ]
  },
  {
   "cell_type": "markdown",
   "id": "f3867b1d",
   "metadata": {},
   "source": [
    "## 2. Assignment Operators"
   ]
  },
  {
   "cell_type": "code",
   "execution_count": 9,
   "id": "c72a6c20",
   "metadata": {},
   "outputs": [],
   "source": [
    "#    13x Assignment Operators\n",
    "###################################################    \n",
    "#    =           1x direct assignment             # \n",
    "#    += -= *=    7x arithmetic assignment         #\n",
    "#    &= ^= <<=   5x bitwise assignment            #\n",
    "###################################################"
   ]
  },
  {
   "cell_type": "markdown",
   "id": "5d264e1e",
   "metadata": {},
   "source": [
    "## 3. Comparison Operators"
   ]
  },
  {
   "cell_type": "code",
   "execution_count": 11,
   "id": "69fe1e11",
   "metadata": {},
   "outputs": [],
   "source": [
    "#    6x Comparison Operators\n",
    "####################################################    \n",
    "#    ==  Equality       != Not Equality            # \n",
    "#    >  greater than    >= greater than or equal   #\n",
    "#    <  less than       <= less than or equal      #\n",
    "####################################################"
   ]
  },
  {
   "cell_type": "markdown",
   "id": "a4ec98e6",
   "metadata": {},
   "source": [
    "## 4. Logical Operators"
   ]
  },
  {
   "cell_type": "code",
   "execution_count": 13,
   "id": "0a6c4d89",
   "metadata": {},
   "outputs": [],
   "source": [
    "#    3x Logical Operators\n",
    "########################################    \n",
    "#    and    both true                  # \n",
    "#    or     any of both true           #\n",
    "#    not    reverse the result         #\n",
    "########################################"
   ]
  },
  {
   "cell_type": "markdown",
   "id": "37762bf7",
   "metadata": {},
   "source": [
    "## 5. Identity Operators"
   ]
  },
  {
   "cell_type": "markdown",
   "id": "0c9c8173",
   "metadata": {},
   "source": [
    "Identity operators are used to compare the objects, not if they are equal, but if they are actually the same object, with the same memory location"
   ]
  },
  {
   "cell_type": "code",
   "execution_count": 16,
   "id": "315df2c7",
   "metadata": {},
   "outputs": [],
   "source": [
    "#    2x Identity Operators\n",
    "##########################################    \n",
    "#    is         true if both same        # \n",
    "#    is not     true if both not same    #\n",
    "##########################################"
   ]
  },
  {
   "cell_type": "code",
   "execution_count": 30,
   "id": "923cf0ca",
   "metadata": {},
   "outputs": [
    {
     "name": "stdout",
     "output_type": "stream",
     "text": [
      "2373288094128 <class 'int'>\n",
      "2373288094128 <class 'int'>\n"
     ]
    },
    {
     "data": {
      "text/plain": [
       "True"
      ]
     },
     "execution_count": 30,
     "metadata": {},
     "output_type": "execute_result"
    }
   ],
   "source": [
    "x = 5\n",
    "y = 5\n",
    "\n",
    "print(id(x), type(x))\n",
    "print(id(y), type(y))\n",
    "\n",
    "x is y"
   ]
  },
  {
   "cell_type": "markdown",
   "id": "fcdc7ec1",
   "metadata": {},
   "source": [
    "## 6. Membership Operators"
   ]
  },
  {
   "cell_type": "markdown",
   "id": "090b1f1a",
   "metadata": {},
   "source": [
    "Membership operators are used to test if a sequence is presented in an object"
   ]
  },
  {
   "cell_type": "code",
   "execution_count": 22,
   "id": "3b9774f7",
   "metadata": {},
   "outputs": [],
   "source": [
    "#    2x Membership Operators\n",
    "##########################################    \n",
    "#    in         true if both same        # \n",
    "#    not in     true if both not same    #\n",
    "##########################################"
   ]
  },
  {
   "cell_type": "code",
   "execution_count": 29,
   "id": "f898a3ec",
   "metadata": {},
   "outputs": [
    {
     "data": {
      "text/plain": [
       "True"
      ]
     },
     "execution_count": 29,
     "metadata": {},
     "output_type": "execute_result"
    }
   ],
   "source": [
    "list1 = [1, 2, 3, 5]\n",
    "4 not in list1"
   ]
  }
 ],
 "metadata": {
  "kernelspec": {
   "display_name": "Python 3 (ipykernel)",
   "language": "python",
   "name": "python3"
  },
  "language_info": {
   "codemirror_mode": {
    "name": "ipython",
    "version": 3
   },
   "file_extension": ".py",
   "mimetype": "text/x-python",
   "name": "python",
   "nbconvert_exporter": "python",
   "pygments_lexer": "ipython3",
   "version": "3.9.12"
  }
 },
 "nbformat": 4,
 "nbformat_minor": 5
}
