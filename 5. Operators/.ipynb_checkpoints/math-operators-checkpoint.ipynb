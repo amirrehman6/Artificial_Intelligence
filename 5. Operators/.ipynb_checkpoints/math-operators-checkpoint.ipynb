{
 "cells": [
  {
   "cell_type": "markdown",
   "id": "dec22b57",
   "metadata": {},
   "source": [
    "### Math Operators"
   ]
  },
  {
   "cell_type": "code",
   "execution_count": 19,
   "id": "9fa52893",
   "metadata": {},
   "outputs": [
    {
     "name": "stdout",
     "output_type": "stream",
     "text": [
      "25\n"
     ]
    }
   ],
   "source": [
    "var1 = 10\n",
    "var2 = 15\n",
    "var3 = var1 + var2  # addition\n",
    "print(var3)"
   ]
  },
  {
   "cell_type": "code",
   "execution_count": 20,
   "id": "127e790c",
   "metadata": {},
   "outputs": [
    {
     "name": "stdout",
     "output_type": "stream",
     "text": [
      "5\n"
     ]
    }
   ],
   "source": [
    "var1 = 15\n",
    "var2 = 10\n",
    "var3 = var1 - var2  # subctraction\n",
    "print(var3)"
   ]
  },
  {
   "cell_type": "code",
   "execution_count": 21,
   "id": "bc7f8644",
   "metadata": {},
   "outputs": [
    {
     "name": "stdout",
     "output_type": "stream",
     "text": [
      "150\n"
     ]
    }
   ],
   "source": [
    "var1 = 15\n",
    "var2 = 10\n",
    "var3 = var1 * var2  # multiplication\n",
    "print(var3)"
   ]
  },
  {
   "cell_type": "code",
   "execution_count": 22,
   "id": "57c7e386",
   "metadata": {},
   "outputs": [
    {
     "name": "stdout",
     "output_type": "stream",
     "text": [
      "1.5\n"
     ]
    }
   ],
   "source": [
    "var1 = 15\n",
    "var2 = 10\n",
    "var3 = var1 / var2  # float division (default) \n",
    "print(var3)"
   ]
  },
  {
   "cell_type": "code",
   "execution_count": 23,
   "id": "ba62067a",
   "metadata": {},
   "outputs": [
    {
     "name": "stdout",
     "output_type": "stream",
     "text": [
      "1\n"
     ]
    }
   ],
   "source": [
    "var1 = 15\n",
    "var2 = 10\n",
    "var3 = var1 // var2  # integer division (floar rounding)\n",
    "print(var3)"
   ]
  },
  {
   "cell_type": "code",
   "execution_count": null,
   "id": "d81a058f",
   "metadata": {},
   "outputs": [],
   "source": []
  }
 ],
 "metadata": {
  "kernelspec": {
   "display_name": "Python 3 (ipykernel)",
   "language": "python",
   "name": "python3"
  },
  "language_info": {
   "codemirror_mode": {
    "name": "ipython",
    "version": 3
   },
   "file_extension": ".py",
   "mimetype": "text/x-python",
   "name": "python",
   "nbconvert_exporter": "python",
   "pygments_lexer": "ipython3",
   "version": "3.9.12"
  }
 },
 "nbformat": 4,
 "nbformat_minor": 5
}
