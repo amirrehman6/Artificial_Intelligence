{
 "cells": [
  {
   "cell_type": "markdown",
   "id": "f25a9162",
   "metadata": {},
   "source": [
    "### Math Operators"
   ]
  },
  {
   "cell_type": "markdown",
   "id": "038b30b2",
   "metadata": {},
   "source": [
    "Math operators does not work on string.\n",
    "\n",
    "\"+\" operator CONCATENATES string"
   ]
  },
  {
   "cell_type": "code",
   "execution_count": null,
   "id": "54841aad",
   "metadata": {},
   "outputs": [],
   "source": [
    "\n",
    "\n",
    "var1 = 10\n",
    "var2 = 15\n",
    "var3 = var1 + var2  # addition\n",
    "print(var3)"
   ]
  },
  {
   "cell_type": "code",
   "execution_count": 20,
   "id": "1b7c9f9e",
   "metadata": {},
   "outputs": [
    {
     "name": "stdout",
     "output_type": "stream",
     "text": [
      "5\n"
     ]
    }
   ],
   "source": [
    "var1 = 15\n",
    "var2 = 10\n",
    "var3 = var1 - var2  # subctraction\n",
    "print(var3)"
   ]
  },
  {
   "cell_type": "code",
   "execution_count": 21,
   "id": "51bc334f",
   "metadata": {},
   "outputs": [
    {
     "name": "stdout",
     "output_type": "stream",
     "text": [
      "150\n"
     ]
    }
   ],
   "source": [
    "var1 = 15\n",
    "var2 = 10\n",
    "var3 = var1 * var2  # multiplication\n",
    "print(var3)"
   ]
  },
  {
   "cell_type": "code",
   "execution_count": 22,
   "id": "a48cfa63",
   "metadata": {},
   "outputs": [
    {
     "name": "stdout",
     "output_type": "stream",
     "text": [
      "1.5\n"
     ]
    }
   ],
   "source": [
    "var1 = 15\n",
    "var2 = 10\n",
    "var3 = var1 / var2  # float division (default) \n",
    "print(var3)"
   ]
  },
  {
   "cell_type": "code",
   "execution_count": 24,
   "id": "a6c5cbc3",
   "metadata": {},
   "outputs": [
    {
     "name": "stdout",
     "output_type": "stream",
     "text": [
      "1\n"
     ]
    }
   ],
   "source": [
    "var1 = 18\n",
    "var2 = 10\n",
    "var3 = var1 // var2  # integer division (floar rounding)\n",
    "print(var3)"
   ]
  },
  {
   "cell_type": "code",
   "execution_count": null,
   "id": "5f54941d",
   "metadata": {},
   "outputs": [],
   "source": []
  }
 ],
 "metadata": {
  "kernelspec": {
   "display_name": "Python 3 (ipykernel)",
   "language": "python",
   "name": "python3"
  },
  "language_info": {
   "codemirror_mode": {
    "name": "ipython",
    "version": 3
   },
   "file_extension": ".py",
   "mimetype": "text/x-python",
   "name": "python",
   "nbconvert_exporter": "python",
   "pygments_lexer": "ipython3",
   "version": "3.9.12"
  }
 },
 "nbformat": 4,
 "nbformat_minor": 5
}
