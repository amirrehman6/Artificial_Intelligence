{
 "cells": [
  {
   "cell_type": "markdown",
   "id": "305b055f",
   "metadata": {},
   "source": [
    "# Numbers - Practice"
   ]
  },
  {
   "cell_type": "code",
   "execution_count": 11,
   "id": "77c9ff05",
   "metadata": {},
   "outputs": [
    {
     "name": "stdout",
     "output_type": "stream",
     "text": [
      "0:a\n",
      "1:b\n",
      "2:c\n"
     ]
    }
   ],
   "source": [
    "for index,value in enumerate('abc'):\n",
    "    print(f'{index}:{value}')"
   ]
  },
  {
   "cell_type": "markdown",
   "id": "b8939b4a",
   "metadata": {},
   "source": [
    "### 1. Number Guessing Game"
   ]
  },
  {
   "cell_type": "code",
   "execution_count": 19,
   "id": "1af1842b",
   "metadata": {},
   "outputs": [
    {
     "name": "stdout",
     "output_type": "stream",
     "text": [
      "Please enter your name: Amir\n",
      "Hello! Amir\n",
      "Guess a number between 0 and 4: 0\n",
      "\n",
      " 0 is not correct :(\n",
      "\n",
      " Please try again: 1\n",
      " Great! you guessed it right. 1 is the number. :)\n"
     ]
    }
   ],
   "source": [
    "import random\n",
    "\n",
    "number = random.randint(0,4)        # generating random number\n",
    "\n",
    "name = input('Please enter your name: ')\n",
    "print(f'Hello! {name}')\n",
    "\n",
    "guess_number = int(input('Guess a number between 0 and 4: '))\n",
    "\n",
    "while guess_number != number:\n",
    "    print(f'\\n {guess_number} is not correct :(')\n",
    "    guess_number = int(input('\\n Please try again: '))\n",
    "\n",
    "print(f' Great! you guessed it right. {guess_number} is the number. :)')"
   ]
  },
  {
   "cell_type": "code",
   "execution_count": 22,
   "id": "89efbe1b",
   "metadata": {},
   "outputs": [
    {
     "name": "stdout",
     "output_type": "stream",
     "text": [
      "Please enter your name: Amir Rehman\n",
      "Hello! Amir Rehman\n",
      "Guess a number between 0 and 100: 75\n",
      "\n",
      " 75 is too low!\n",
      " Please try again: 85\n",
      "\n",
      " 85 is too low!\n",
      " Please try again: 90\n",
      "\n",
      " 90 is too high!\n",
      " Please try again: 87\n",
      "\n",
      " 87 is too high!\n",
      " Please try again: 86\n",
      "Great! you guessed it right. 86 is the number. :)\n"
     ]
    }
   ],
   "source": [
    "import random\n",
    "\n",
    "number = random.randint(0,100)\n",
    "\n",
    "name = input('Please enter your name: ')\n",
    "print(f'Hello! {name}')\n",
    "guess_number = int(input('Guess a number between 0 and 100: '))\n",
    "score = 1\n",
    "while True:\n",
    "    if guess_number == number:\n",
    "        print(f'\\n Great! you guessed it right. {guess_number} is the number. :)')\n",
    "        break\n",
    "    if guess_number > number:\n",
    "        print(f'\\n {guess_number} is too high!')\n",
    "    if guess_number < number:\n",
    "        print(f'\\n {guess_number} is too low!')\n",
    "\n",
    "    guess_number = int(input(' Please try again: '))\n",
    "    score += 1\n",
    "print(f' You guessed in {score} attempts.')"
   ]
  },
  {
   "cell_type": "markdown",
   "id": "3de510cd",
   "metadata": {},
   "source": [
    "#### 2. My Sum Function"
   ]
  },
  {
   "cell_type": "code",
   "execution_count": 3,
   "id": "97f0e170",
   "metadata": {},
   "outputs": [
    {
     "name": "stdout",
     "output_type": "stream",
     "text": [
      "16\n"
     ]
    }
   ],
   "source": [
    "# Function definition\n",
    "\n",
    "def mySum(*numbers):\n",
    "    output = 0\n",
    "    for number in numbers:\n",
    "        output += number\n",
    "    return output\n",
    "\n",
    "\n",
    "# Using Function\n",
    "\n",
    "print(mySum(10,3,3))"
   ]
  },
  {
   "cell_type": "code",
   "execution_count": null,
   "id": "09327182",
   "metadata": {},
   "outputs": [],
   "source": []
  }
 ],
 "metadata": {
  "kernelspec": {
   "display_name": "Python 3 (ipykernel)",
   "language": "python",
   "name": "python3"
  },
  "language_info": {
   "codemirror_mode": {
    "name": "ipython",
    "version": 3
   },
   "file_extension": ".py",
   "mimetype": "text/x-python",
   "name": "python",
   "nbconvert_exporter": "python",
   "pygments_lexer": "ipython3",
   "version": "3.9.12"
  }
 },
 "nbformat": 4,
 "nbformat_minor": 5
}
