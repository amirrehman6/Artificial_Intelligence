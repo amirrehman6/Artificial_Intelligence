{
 "cells": [
  {
   "cell_type": "markdown",
   "id": "c6a798ef",
   "metadata": {},
   "source": [
    "## STRING"
   ]
  },
  {
   "cell_type": "markdown",
   "id": "e64517fe",
   "metadata": {},
   "source": [
    "### Methods to Enter String"
   ]
  },
  {
   "cell_type": "code",
   "execution_count": 2,
   "id": "5af14c07",
   "metadata": {},
   "outputs": [
    {
     "name": "stdout",
     "output_type": "stream",
     "text": [
      "Amir\n"
     ]
    }
   ],
   "source": [
    "# 1. With double qoutes\n",
    "\n",
    "name = \"Amir\"\n",
    "print(name)"
   ]
  },
  {
   "cell_type": "code",
   "execution_count": 3,
   "id": "2efb298a",
   "metadata": {},
   "outputs": [
    {
     "name": "stdout",
     "output_type": "stream",
     "text": [
      "Amir\n"
     ]
    }
   ],
   "source": [
    "# 2. With single quote\n",
    "\n",
    "name = 'Amir'\n",
    "print(name)"
   ]
  },
  {
   "cell_type": "code",
   "execution_count": 7,
   "id": "7beafd61",
   "metadata": {},
   "outputs": [
    {
     "name": "stdout",
     "output_type": "stream",
     "text": [
      "Syed Amir Rehman\n",
      "Batch 37 - Online\n",
      "PIAIC\n",
      "Islamabad\n"
     ]
    }
   ],
   "source": [
    "# 3. With 3 double quotes\n",
    "\n",
    "name = \"\"\"Syed Amir Rehman\n",
    "Batch 37 - Online\n",
    "PIAIC\n",
    "Islamabad\"\"\"\n",
    "print(name)"
   ]
  },
  {
   "cell_type": "code",
   "execution_count": 8,
   "id": "8de47862",
   "metadata": {},
   "outputs": [
    {
     "name": "stdout",
     "output_type": "stream",
     "text": [
      "Syed Amir Rehman\n",
      "Batch 37 - Online\n",
      "PIAIC\n",
      "Islamabad\n"
     ]
    }
   ],
   "source": [
    "# 4. With 3 single quotes\n",
    "\n",
    "name = '''Syed Amir Rehman\n",
    "Batch 37 - Online\n",
    "PIAIC\n",
    "Islamabad'''\n",
    "print(name)"
   ]
  },
  {
   "cell_type": "markdown",
   "id": "c48f9e6d",
   "metadata": {},
   "source": [
    "#### Strings are Arrays"
   ]
  },
  {
   "cell_type": "code",
   "execution_count": 2,
   "id": "5a4e9120",
   "metadata": {},
   "outputs": [
    {
     "name": "stdout",
     "output_type": "stream",
     "text": [
      "b\n",
      "a\n",
      "n\n",
      "a\n",
      "n\n",
      "a\n"
     ]
    }
   ],
   "source": [
    "for x in 'banana':\n",
    "    print(x)"
   ]
  },
  {
   "cell_type": "markdown",
   "id": "ce8529bd",
   "metadata": {},
   "source": [
    "#### Finding length of String"
   ]
  },
  {
   "cell_type": "code",
   "execution_count": 3,
   "id": "d11709a6",
   "metadata": {},
   "outputs": [
    {
     "name": "stdout",
     "output_type": "stream",
     "text": [
      "11\n"
     ]
    }
   ],
   "source": [
    "x = 'amir rehman'\n",
    "print(len(x))"
   ]
  },
  {
   "cell_type": "markdown",
   "id": "1354bcd6",
   "metadata": {},
   "source": [
    "#### Checking text in String"
   ]
  },
  {
   "cell_type": "code",
   "execution_count": 4,
   "id": "ce7255de",
   "metadata": {},
   "outputs": [
    {
     "name": "stdout",
     "output_type": "stream",
     "text": [
      "True\n"
     ]
    }
   ],
   "source": [
    "x = 'my name is amir rehman'\n",
    "print ('amir' in x)"
   ]
  },
  {
   "cell_type": "code",
   "execution_count": 5,
   "id": "a8652cae",
   "metadata": {},
   "outputs": [
    {
     "name": "stdout",
     "output_type": "stream",
     "text": [
      "yes it contains 'amir'\n"
     ]
    }
   ],
   "source": [
    "x = 'my name is amir'\n",
    "if 'amir' in x:\n",
    "    print('yes it contains \\'amir\\'')"
   ]
  },
  {
   "cell_type": "code",
   "execution_count": null,
   "id": "e10b69d2",
   "metadata": {},
   "outputs": [],
   "source": [
    "name = ['a','b','c','d','e']\n",
    "if 'c' in name:\n",
    "    print(name.index('c'))"
   ]
  },
  {
   "cell_type": "markdown",
   "id": "84cac477",
   "metadata": {},
   "source": [
    "#### Checking text if not in String"
   ]
  },
  {
   "cell_type": "code",
   "execution_count": 6,
   "id": "d5a54ede",
   "metadata": {},
   "outputs": [
    {
     "name": "stdout",
     "output_type": "stream",
     "text": [
      "False\n"
     ]
    }
   ],
   "source": [
    "x = 'my name is amir rehman'\n",
    "print ('amir' not in x)"
   ]
  },
  {
   "cell_type": "code",
   "execution_count": 7,
   "id": "4961175a",
   "metadata": {},
   "outputs": [
    {
     "name": "stdout",
     "output_type": "stream",
     "text": [
      "yes is does not contain asad\n"
     ]
    }
   ],
   "source": [
    "x = 'my name is amir rehman'\n",
    "if 'asad' not in x:\n",
    "    print('yes is does not contain asad')"
   ]
  },
  {
   "cell_type": "code",
   "execution_count": 8,
   "id": "9b5498b2",
   "metadata": {},
   "outputs": [],
   "source": [
    "name = ['1','2','3','4','5']\n",
    "if '8' in name:\n",
    "    print(name.index('8'))"
   ]
  }
 ],
 "metadata": {
  "kernelspec": {
   "display_name": "Python 3 (ipykernel)",
   "language": "python",
   "name": "python3"
  },
  "language_info": {
   "codemirror_mode": {
    "name": "ipython",
    "version": 3
   },
   "file_extension": ".py",
   "mimetype": "text/x-python",
   "name": "python",
   "nbconvert_exporter": "python",
   "pygments_lexer": "ipython3",
   "version": "3.9.12"
  }
 },
 "nbformat": 4,
 "nbformat_minor": 5
}
