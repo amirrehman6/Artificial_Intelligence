{
 "cells": [
  {
   "cell_type": "markdown",
   "id": "714e29f3",
   "metadata": {},
   "source": [
    "# Variables"
   ]
  },
  {
   "cell_type": "markdown",
   "id": "9ecb47c6",
   "metadata": {},
   "source": [
    "1. Declaration & Initialization\n",
    "2. Key Functions/Methods\n",
    "3. Naming Variables\n",
    "4. Multiple Declaration\n",
    "5. Global vs Local"
   ]
  },
  {
   "cell_type": "markdown",
   "id": "fe608d75",
   "metadata": {},
   "source": [
    "## 1. Declaration & Initialization"
   ]
  },
  {
   "cell_type": "code",
   "execution_count": 8,
   "id": "c28e0c0a",
   "metadata": {},
   "outputs": [
    {
     "name": "stdout",
     "output_type": "stream",
     "text": [
      "5 Amir Rehman\n"
     ]
    }
   ],
   "source": [
    "# No command to declare variable\n",
    "# Variable is created when a value is assigned to it\n",
    "\n",
    "initial = 5\n",
    "firstName = \"Amir\"\n",
    "lastName = 'Rehman'\n",
    "print(initial,firstName,lastName)"
   ]
  },
  {
   "cell_type": "code",
   "execution_count": 9,
   "id": "788f5dd5",
   "metadata": {},
   "outputs": [
    {
     "name": "stdout",
     "output_type": "stream",
     "text": [
      "5 <class 'int'>\n",
      "Amir <class 'str'>\n",
      "5.0 <class 'float'>\n"
     ]
    }
   ],
   "source": [
    "# Does not need to declared with any data type\n",
    "# Even data type can be changed after its declared\n",
    "\n",
    "x = 5\n",
    "print(x,type(x))\n",
    "x = 'Amir'\n",
    "print(x, type(x))\n",
    "x = 5.0\n",
    "print(x, type(x))"
   ]
  },
  {
   "cell_type": "markdown",
   "id": "0cbe5177",
   "metadata": {},
   "source": [
    "#### Casting"
   ]
  },
  {
   "cell_type": "code",
   "execution_count": 10,
   "id": "733c98d7",
   "metadata": {},
   "outputs": [
    {
     "name": "stdout",
     "output_type": "stream",
     "text": [
      "<class 'int'> <class 'str'> <class 'float'>\n"
     ]
    }
   ],
   "source": [
    "# Casting is used to define variable along with its data type\n",
    "\n",
    "x = int(5)\n",
    "y = str('Amir')\n",
    "z = float(3.14)\n",
    "\n",
    "print(type(x),type(y), type(z))"
   ]
  },
  {
   "cell_type": "markdown",
   "id": "154178b4",
   "metadata": {},
   "source": [
    "## 2. Key Functions/Methods"
   ]
  },
  {
   "cell_type": "markdown",
   "id": "24c9bd0f",
   "metadata": {},
   "source": [
    "#### Data Type"
   ]
  },
  {
   "cell_type": "code",
   "execution_count": 11,
   "id": "c690dd0d",
   "metadata": {},
   "outputs": [
    {
     "name": "stdout",
     "output_type": "stream",
     "text": [
      "<class 'str'>\n"
     ]
    }
   ],
   "source": [
    "# Data type of variable can be obtained using type() function\n",
    "\n",
    "x = '5'\n",
    "print(type(x))"
   ]
  },
  {
   "cell_type": "markdown",
   "id": "4677d4b8",
   "metadata": {},
   "source": [
    "#### Memory Address"
   ]
  },
  {
   "cell_type": "code",
   "execution_count": 12,
   "id": "193441bc",
   "metadata": {},
   "outputs": [
    {
     "name": "stdout",
     "output_type": "stream",
     "text": [
      "2578373121456\n"
     ]
    }
   ],
   "source": [
    "# Memory address of variable can be obtained using id() function\n",
    "\n",
    "x = '5'\n",
    "print(id(x))"
   ]
  },
  {
   "cell_type": "markdown",
   "id": "9de57f1c",
   "metadata": {},
   "source": [
    "#### Length of Variable"
   ]
  },
  {
   "cell_type": "code",
   "execution_count": 13,
   "id": "d793e830",
   "metadata": {},
   "outputs": [
    {
     "name": "stdout",
     "output_type": "stream",
     "text": [
      "4\n"
     ]
    }
   ],
   "source": [
    "# Length of variable can be obtained using len() function\n",
    "\n",
    "x = 'Amir'\n",
    "print(len(x))"
   ]
  },
  {
   "cell_type": "markdown",
   "id": "c58e0126",
   "metadata": {},
   "source": [
    "#### Case Sensitivity"
   ]
  },
  {
   "cell_type": "code",
   "execution_count": 15,
   "id": "69752da8",
   "metadata": {},
   "outputs": [
    {
     "name": "stdout",
     "output_type": "stream",
     "text": [
      "5\n"
     ]
    }
   ],
   "source": [
    "# variable names are case sensitive\n",
    "\n",
    "a = 5\n",
    "A = 'Amir'\n",
    "print(a)"
   ]
  },
  {
   "cell_type": "markdown",
   "id": "ebf6ff1d",
   "metadata": {},
   "source": [
    "## 3. Naming Variables"
   ]
  },
  {
   "cell_type": "code",
   "execution_count": 17,
   "id": "35bbbe8a",
   "metadata": {},
   "outputs": [],
   "source": [
    "# 1. can only contain i) letters ii) numbers iii) underscore\n",
    "# 2. cannot start with number\n",
    "\n",
    "fullName = 'Amir Rehman'\n",
    "_firstName = 'Amir'\n",
    "_last_name = 'Rehman'\n",
    "fullName2 = 'Syed Amir Rehman'"
   ]
  },
  {
   "cell_type": "markdown",
   "id": "2faa7543",
   "metadata": {},
   "source": [
    "#### Naming Cases"
   ]
  },
  {
   "cell_type": "code",
   "execution_count": 18,
   "id": "8f5a2173",
   "metadata": {},
   "outputs": [],
   "source": [
    "# 1. camel case\n",
    "\n",
    "myFirstName = 'Amir' # first letter of each word is capital except first word"
   ]
  },
  {
   "cell_type": "code",
   "execution_count": 20,
   "id": "83e35ca1",
   "metadata": {},
   "outputs": [],
   "source": [
    "# 2. pascal case\n",
    "\n",
    "MyFirstName = 'Amir' # first letter of each word is capital"
   ]
  },
  {
   "cell_type": "code",
   "execution_count": 21,
   "id": "cb0901d1",
   "metadata": {},
   "outputs": [],
   "source": [
    "# 3. snake case\n",
    "\n",
    "my_first_name = 'Amir' # each word is separated by underscore _"
   ]
  },
  {
   "cell_type": "code",
   "execution_count": 14,
   "id": "b99bb709",
   "metadata": {},
   "outputs": [
    {
     "name": "stdout",
     "output_type": "stream",
     "text": [
      "7\n",
      "6\n"
     ]
    }
   ],
   "source": [
    "x = 7\n",
    "print(x)\n",
    "x = 6\n",
    "print(x)"
   ]
  },
  {
   "cell_type": "markdown",
   "id": "7601215e",
   "metadata": {},
   "source": [
    "## 4. Multiple Declaration"
   ]
  },
  {
   "cell_type": "markdown",
   "id": "d5573a3a",
   "metadata": {},
   "source": [
    "#### Multiple Values to Multiple Variables"
   ]
  },
  {
   "cell_type": "code",
   "execution_count": 2,
   "id": "3df89477",
   "metadata": {},
   "outputs": [
    {
     "name": "stdout",
     "output_type": "stream",
     "text": [
      "Syed\n",
      "Amir\n",
      "Rehman\n"
     ]
    }
   ],
   "source": [
    "x, y, z = 'Syed', 'Amir', 'Rehman'\n",
    "print(x)\n",
    "print(y)\n",
    "print(z)"
   ]
  },
  {
   "cell_type": "markdown",
   "id": "e63bd8e4",
   "metadata": {},
   "source": [
    "#### Unpacking of a Collection"
   ]
  },
  {
   "cell_type": "code",
   "execution_count": 5,
   "id": "87902ebb",
   "metadata": {},
   "outputs": [
    {
     "name": "stdout",
     "output_type": "stream",
     "text": [
      "a\n",
      "b\n",
      "c\n"
     ]
    }
   ],
   "source": [
    "x, y, z = ['a', 'b', 'c']\n",
    "print(x)\n",
    "print(y)\n",
    "print(z)"
   ]
  },
  {
   "cell_type": "markdown",
   "id": "05394461",
   "metadata": {},
   "source": [
    "## 5. Global vs Local"
   ]
  },
  {
   "cell_type": "code",
   "execution_count": 25,
   "id": "fe2e4de4",
   "metadata": {},
   "outputs": [
    {
     "name": "stdout",
     "output_type": "stream",
     "text": [
      "local value:  amir\n",
      "global value:  amir\n"
     ]
    }
   ],
   "source": [
    "# Global variable value can be used as local value \n",
    "\n",
    "x = \"amir\"\n",
    "\n",
    "def myfunc():\n",
    "  print(\"local value: \",x)\n",
    "\n",
    "myfunc()\n",
    "print(\"global value: \",x)"
   ]
  },
  {
   "cell_type": "code",
   "execution_count": 26,
   "id": "71171e58",
   "metadata": {},
   "outputs": [
    {
     "name": "stdout",
     "output_type": "stream",
     "text": [
      "local value:  rehman\n",
      "global value:  amir\n"
     ]
    }
   ],
   "source": [
    "# Local variable can have its own value without changing global value \n",
    "\n",
    "# If you create a variable with the same name inside a function,\n",
    "# this variable will be local, and can only be used inside the function.\n",
    "#  The global variable with the same name will remain as it was, global and with the original value.\n",
    "\n",
    "x = \"amir\"\n",
    "\n",
    "def myfunc():\n",
    "  x = 'rehman'\n",
    "  print(\"local value: \",x)\n",
    "\n",
    "myfunc()\n",
    "print(\"global value: \",x)"
   ]
  },
  {
   "cell_type": "markdown",
   "id": "38bcc791",
   "metadata": {},
   "source": [
    "#### Global variable inside function"
   ]
  },
  {
   "cell_type": "code",
   "execution_count": 27,
   "id": "7a8a260f",
   "metadata": {},
   "outputs": [
    {
     "name": "stdout",
     "output_type": "stream",
     "text": [
      "local value:  rehman\n",
      "global value:  rehman\n"
     ]
    }
   ],
   "source": [
    "x = 'amir'\n",
    "\n",
    "def myfunc():\n",
    "    global x\n",
    "    x = 'rehman'\n",
    "    print(\"local value: \",x)\n",
    "\n",
    "myfunc()\n",
    "print(\"global value: \",x)"
   ]
  },
  {
   "cell_type": "markdown",
   "id": "b25bff04",
   "metadata": {},
   "source": [
    "## Tools"
   ]
  },
  {
   "cell_type": "markdown",
   "id": "0c6418a7",
   "metadata": {},
   "source": [
    "#### 1. Multiple input in 1 line"
   ]
  },
  {
   "cell_type": "code",
   "execution_count": 37,
   "id": "25115c7b",
   "metadata": {},
   "outputs": [
    {
     "name": "stdout",
     "output_type": "stream",
     "text": [
      "enter two numbers separated by space: 3 6\n",
      "3\n",
      "6\n"
     ]
    }
   ],
   "source": [
    "# multiple input from user in single input()\n",
    "\n",
    "x, y = input('enter two numbers separated by space: ').split()\n",
    "\n",
    "print(x)\n",
    "print(y)"
   ]
  }
 ],
 "metadata": {
  "kernelspec": {
   "display_name": "Python 3 (ipykernel)",
   "language": "python",
   "name": "python3"
  },
  "language_info": {
   "codemirror_mode": {
    "name": "ipython",
    "version": 3
   },
   "file_extension": ".py",
   "mimetype": "text/x-python",
   "name": "python",
   "nbconvert_exporter": "python",
   "pygments_lexer": "ipython3",
   "version": "3.9.12"
  }
 },
 "nbformat": 4,
 "nbformat_minor": 5
}
