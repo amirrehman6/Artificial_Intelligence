{
 "cells": [
  {
   "cell_type": "markdown",
   "id": "0d28ff08",
   "metadata": {},
   "source": [
    "# Assignment: Class 13_AIC"
   ]
  },
  {
   "cell_type": "markdown",
   "id": "661d311e",
   "metadata": {},
   "source": [
    "Syed Amir Rehman<br>\n",
    "Roll No. PIAIC128409<br>\n",
    "Batch 37 - Online<br>"
   ]
  },
  {
   "cell_type": "markdown",
   "id": "2881424b",
   "metadata": {},
   "source": [
    "### Task 1:"
   ]
  },
  {
   "cell_type": "markdown",
   "id": "5bcd4f61",
   "metadata": {},
   "source": [
    "1. import mother and father attribute\n",
    "2. add two new attributes in the child constructor"
   ]
  },
  {
   "cell_type": "code",
   "execution_count": 35,
   "id": "188027fc",
   "metadata": {},
   "outputs": [],
   "source": [
    "# Create father class\n",
    "\n",
    "class Father():\n",
    "    def __init__(self,name):\n",
    "        self.name = name\n",
    "        self.age = None\n",
    "        self.skill = None\n",
    "        \n",
    "    def showSkill(self):\n",
    "        return f\"I can do {self.skill}\"\n",
    "    \n",
    "    def showAgeDays(self):\n",
    "        return self.age * 365\n",
    "f1 = Father(\"father1\")"
   ]
  },
  {
   "cell_type": "code",
   "execution_count": 36,
   "id": "ee0b55c9",
   "metadata": {},
   "outputs": [],
   "source": [
    "# create mother class\n",
    "\n",
    "class Mother():\n",
    "    def __init__(this,name):\n",
    "        this.name = name\n",
    "        this.speak = None\n",
    "        this.write = None\n",
    "        this.cook = None\n",
    "        \n",
    "    def showCook(this):\n",
    "        return f\"I can cook {this.cook}\"\n",
    "    \n",
    "    def showListen(this):\n",
    "        return f\"I can write {this.write}\"\n",
    "    \n",
    "m1 = Mother('mother1')"
   ]
  },
  {
   "cell_type": "code",
   "execution_count": 37,
   "id": "0a1b35b4",
   "metadata": {},
   "outputs": [],
   "source": [
    "# Create child class from Father & Mother Classes\n",
    "\n",
    "class Child(Father, Mother):\n",
    "    def __init__(self,name):\n",
    "        Father.__init__(self, name)\n",
    "        Mother.__init__(self, name)\n",
    "        self.address = None\n",
    "        self.education = None\n",
    "        \n",
    "c1 = Child('child')"
   ]
  },
  {
   "cell_type": "code",
   "execution_count": 38,
   "id": "c366d00c",
   "metadata": {},
   "outputs": [],
   "source": [
    "# Printing Attributes and Methods of Father, Mother and Child Objects"
   ]
  },
  {
   "cell_type": "code",
   "execution_count": 39,
   "id": "bc4aef84",
   "metadata": {},
   "outputs": [
    {
     "name": "stdout",
     "output_type": "stream",
     "text": [
      "['age', 'name', 'showAgeDays', 'showSkill', 'skill']\n"
     ]
    }
   ],
   "source": [
    "print(list(i for i in dir(f1) if \"__\" not in i))"
   ]
  },
  {
   "cell_type": "code",
   "execution_count": 40,
   "id": "45653bdd",
   "metadata": {},
   "outputs": [
    {
     "name": "stdout",
     "output_type": "stream",
     "text": [
      "['cook', 'name', 'showCook', 'showListen', 'speak', 'write']\n"
     ]
    }
   ],
   "source": [
    "print(list(i for i in dir(m1) if \"__\" not in i))"
   ]
  },
  {
   "cell_type": "code",
   "execution_count": 41,
   "id": "5869c676",
   "metadata": {},
   "outputs": [
    {
     "name": "stdout",
     "output_type": "stream",
     "text": [
      "['address', 'age', 'cook', 'education', 'name', 'showAgeDays', 'showCook', 'showListen', 'showSkill', 'skill', 'speak', 'write']\n"
     ]
    }
   ],
   "source": [
    "print(list(i for i in dir(c1) if \"__\" not in i))"
   ]
  },
  {
   "cell_type": "code",
   "execution_count": 42,
   "id": "8674b06e",
   "metadata": {},
   "outputs": [],
   "source": [
    "c1.cook = 'stew'"
   ]
  },
  {
   "cell_type": "code",
   "execution_count": 43,
   "id": "b0cb6cea",
   "metadata": {},
   "outputs": [
    {
     "data": {
      "text/plain": [
       "'I can cook stew'"
      ]
     },
     "execution_count": 43,
     "metadata": {},
     "output_type": "execute_result"
    }
   ],
   "source": [
    "c1.showCook()"
   ]
  },
  {
   "cell_type": "code",
   "execution_count": 44,
   "id": "0bca497d",
   "metadata": {},
   "outputs": [
    {
     "data": {
      "text/plain": [
       "'I can cook None'"
      ]
     },
     "execution_count": 44,
     "metadata": {},
     "output_type": "execute_result"
    }
   ],
   "source": [
    "m1.showCook()"
   ]
  },
  {
   "cell_type": "markdown",
   "id": "3b99c4ff",
   "metadata": {},
   "source": [
    "### Task 2:"
   ]
  },
  {
   "cell_type": "markdown",
   "id": "ba06d913",
   "metadata": {},
   "source": [
    "Create operator overloading"
   ]
  },
  {
   "cell_type": "code",
   "execution_count": 45,
   "id": "89386827",
   "metadata": {},
   "outputs": [],
   "source": [
    "# Create a class\n",
    "\n",
    "class Book():\n",
    "    def __init__(self, price):\n",
    "        self.price = price\n",
    "        \n",
    "   # Operator Overloading\n",
    "    def __add__(self, other):\n",
    "        return self.price + other.price "
   ]
  },
  {
   "cell_type": "code",
   "execution_count": 46,
   "id": "f23757c4",
   "metadata": {},
   "outputs": [],
   "source": [
    "# Create objects from class\n",
    "\n",
    "Book1 = Book(1000)\n",
    "Book2 = Book(1500)"
   ]
  },
  {
   "cell_type": "code",
   "execution_count": 47,
   "id": "7b04b678",
   "metadata": {},
   "outputs": [
    {
     "name": "stdout",
     "output_type": "stream",
     "text": [
      "2500\n"
     ]
    }
   ],
   "source": [
    "print(Book1.price + Book2.price)     # addition"
   ]
  },
  {
   "cell_type": "code",
   "execution_count": 48,
   "id": "b69965ee",
   "metadata": {},
   "outputs": [
    {
     "name": "stdout",
     "output_type": "stream",
     "text": [
      "2500\n"
     ]
    }
   ],
   "source": [
    "print(Book1 + Book2)                 # operator overloading"
   ]
  }
 ],
 "metadata": {
  "kernelspec": {
   "display_name": "Python 3 (ipykernel)",
   "language": "python",
   "name": "python3"
  },
  "language_info": {
   "codemirror_mode": {
    "name": "ipython",
    "version": 3
   },
   "file_extension": ".py",
   "mimetype": "text/x-python",
   "name": "python",
   "nbconvert_exporter": "python",
   "pygments_lexer": "ipython3",
   "version": "3.9.12"
  }
 },
 "nbformat": 4,
 "nbformat_minor": 5
}
