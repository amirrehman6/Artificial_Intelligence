{
 "cells": [
  {
   "cell_type": "markdown",
   "id": "67f3434d",
   "metadata": {},
   "source": [
    "# Object Oriented Programming"
   ]
  },
  {
   "cell_type": "markdown",
   "id": "71bdbc12",
   "metadata": {},
   "source": [
    "#### Benefits of OOP:\n",
    "\n",
    "1. Compressed code\n",
    "2. Less Processing Power used / Less Storage consumed\n",
    "3. Easy code management"
   ]
  },
  {
   "cell_type": "markdown",
   "id": "9b8f767a",
   "metadata": {},
   "source": [
    "## 2. Class"
   ]
  },
  {
   "cell_type": "markdown",
   "id": "de204f4b",
   "metadata": {},
   "source": [
    "* Blueprint (like template of object | model of object etc)\n",
    "* Capitalize first letter of ClassName e.g. `class ClassName():`\n",
    "* Constructor  (Method)\n",
    "    * always call when we create new object\n",
    "    * old programming language\n",
    "        * same function as class\n",
    "    * Python\n",
    "        * `def __init__(self)`:\n",
    "        * first argument can ben any name\n",
    "            * self\n",
    "            * this\n",
    "            * abc\n",
    "        * all attribute should be written in constructor body\n",
    "            * `self.attribute_name()`\n",
    "* Destructor   (Method)\n",
    "    * always call when we delete object\n",
    "* Method\n",
    "* Attribute\n",
    "* Class Variable"
   ]
  },
  {
   "cell_type": "markdown",
   "id": "b887a787",
   "metadata": {},
   "source": [
    "### Class Variables"
   ]
  },
  {
   "cell_type": "markdown",
   "id": "faf3c228",
   "metadata": {},
   "source": [
    "* Always create in class body\n",
    "* calling `ClassName.variable_name`"
   ]
  },
  {
   "cell_type": "markdown",
   "id": "c7082833",
   "metadata": {},
   "source": [
    "#### Method vs Function"
   ]
  },
  {
   "cell_type": "markdown",
   "id": "936b9254",
   "metadata": {},
   "source": [
    "* `Function` is a set of instructions or procedures to perform a specific task. \n",
    "* `Method` is a set of instructions that are associated with an object."
   ]
  },
  {
   "cell_type": "markdown",
   "id": "9082c602",
   "metadata": {},
   "source": [
    "## Creating Classess & Objects"
   ]
  },
  {
   "cell_type": "code",
   "execution_count": 5,
   "id": "fc9f7a38",
   "metadata": {},
   "outputs": [],
   "source": [
    "class Student():                          # class\n",
    "    def __init__(self, s_id, s_name):     # constructor       (self can be any name)\n",
    "        \n",
    "#         counter = 0;                      # class variables\n",
    "        \n",
    "        # creating attributes\n",
    "        self.id = s_id                    # self.attribute_name = local_variable\n",
    "        self.name = s_name\n",
    "        self.education = None\n",
    "        self.address = None\n",
    "        self.age = None\n",
    "        self.user = s_name\n",
    "        self.password = \"123\"\n",
    "#         Student.counter += 1\n",
    "\n",
    "    # creating methods\n",
    "    def login(self, usr, pwd):            # Method\n",
    "        if self.user == usr and self.password == pwd:\n",
    "            return 'valid user'\n",
    "        else:\n",
    "            return 'not valid user'\n",
    "    \n",
    "    def display_report(self):             # Method\n",
    "        card = f\"\"\"\n",
    "        PIAIC Student Card\n",
    "        Reg no: {self.id}\n",
    "        Name: {self.name}\n",
    "        Education: {self.education}\n",
    "        \"\"\"\n",
    "        return card"
   ]
  },
  {
   "cell_type": "code",
   "execution_count": 6,
   "id": "9e197b50",
   "metadata": {},
   "outputs": [],
   "source": [
    "# Creating Object from Class (it is also called instance of a Class)\n",
    "\n",
    "s1 = Student(1,'Amir')\n",
    "s2 = Student(2,'Elon')\n",
    "s3 = Student(3,'Nelson')"
   ]
  },
  {
   "cell_type": "code",
   "execution_count": 7,
   "id": "0e41739a",
   "metadata": {},
   "outputs": [
    {
     "name": "stdout",
     "output_type": "stream",
     "text": [
      "Amir\n"
     ]
    }
   ],
   "source": [
    "# calling attribute\n",
    "\n",
    "print(s1.name)    # objectName.attribute"
   ]
  },
  {
   "cell_type": "code",
   "execution_count": 8,
   "id": "267fe271",
   "metadata": {},
   "outputs": [
    {
     "data": {
      "text/plain": [
       "'valid user'"
      ]
     },
     "execution_count": 8,
     "metadata": {},
     "output_type": "execute_result"
    }
   ],
   "source": [
    "# calling Method\n",
    "\n",
    "s1.login(pwd=\"123\",usr='Amir')  # objectName.method()"
   ]
  },
  {
   "cell_type": "code",
   "execution_count": 9,
   "id": "cd3aeefd",
   "metadata": {},
   "outputs": [
    {
     "name": "stdout",
     "output_type": "stream",
     "text": [
      "\n",
      "        PIAIC Student Card\n",
      "        Reg no: 1\n",
      "        Name: Amir\n",
      "        Education: None\n",
      "        \n"
     ]
    }
   ],
   "source": [
    "print(s1.display_report())"
   ]
  },
  {
   "cell_type": "code",
   "execution_count": 10,
   "id": "294634cb",
   "metadata": {},
   "outputs": [],
   "source": [
    "# Updating field in object\n",
    "\n",
    "s1.education = 'ACA'"
   ]
  },
  {
   "cell_type": "code",
   "execution_count": 11,
   "id": "240fcee1",
   "metadata": {},
   "outputs": [
    {
     "name": "stdout",
     "output_type": "stream",
     "text": [
      "\n",
      "        PIAIC Student Card\n",
      "        Reg no: 1\n",
      "        Name: Amir\n",
      "        Education: ACA\n",
      "        \n"
     ]
    }
   ],
   "source": [
    "print(s1.display_report())"
   ]
  },
  {
   "cell_type": "code",
   "execution_count": 13,
   "id": "f52369cb",
   "metadata": {},
   "outputs": [],
   "source": [
    "# Calling class variable\n",
    "\n",
    "# print(Student.counter)\n",
    "# print(s1.counter)"
   ]
  },
  {
   "cell_type": "code",
   "execution_count": 14,
   "id": "fd045671",
   "metadata": {},
   "outputs": [],
   "source": [
    "# list of Attributes and Methods"
   ]
  },
  {
   "cell_type": "code",
   "execution_count": 15,
   "id": "7ad35f91",
   "metadata": {},
   "outputs": [
    {
     "data": {
      "text/plain": [
       "['address', 'age', 'education', 'id', 'login', 'name', 'password', 'user']"
      ]
     },
     "execution_count": 15,
     "metadata": {},
     "output_type": "execute_result"
    }
   ],
   "source": [
    "[i for i in dir(s1) if \"_\" not in i]"
   ]
  },
  {
   "cell_type": "code",
   "execution_count": null,
   "id": "c00e5807",
   "metadata": {},
   "outputs": [],
   "source": []
  }
 ],
 "metadata": {
  "kernelspec": {
   "display_name": "Python 3 (ipykernel)",
   "language": "python",
   "name": "python3"
  },
  "language_info": {
   "codemirror_mode": {
    "name": "ipython",
    "version": 3
   },
   "file_extension": ".py",
   "mimetype": "text/x-python",
   "name": "python",
   "nbconvert_exporter": "python",
   "pygments_lexer": "ipython3",
   "version": "3.9.12"
  }
 },
 "nbformat": 4,
 "nbformat_minor": 5
}
