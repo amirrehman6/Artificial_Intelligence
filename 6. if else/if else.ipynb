{
 "cells": [
  {
   "cell_type": "code",
   "execution_count": 6,
   "id": "7c54eed6",
   "metadata": {},
   "outputs": [
    {
     "name": "stdout",
     "output_type": "stream",
     "text": [
      "7 is equal to 7\n"
     ]
    }
   ],
   "source": [
    "x = 7\n",
    "y = 7\n",
    "\n",
    "if x>y:\n",
    "    print(x , \"is greater than\" , y)\n",
    "elif x==y:\n",
    "    print(x , \"is equal to\" , y)\n",
    "else:\n",
    "    print(x , \"is less than\" , y)"
   ]
  }
 ],
 "metadata": {
  "kernelspec": {
   "display_name": "Python 3 (ipykernel)",
   "language": "python",
   "name": "python3"
  },
  "language_info": {
   "codemirror_mode": {
    "name": "ipython",
    "version": 3
   },
   "file_extension": ".py",
   "mimetype": "text/x-python",
   "name": "python",
   "nbconvert_exporter": "python",
   "pygments_lexer": "ipython3",
   "version": "3.9.12"
  }
 },
 "nbformat": 4,
 "nbformat_minor": 5
}
